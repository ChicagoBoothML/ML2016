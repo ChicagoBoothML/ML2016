{
 "cells": [
  {
   "cell_type": "markdown",
   "metadata": {},
   "source": [
    "# OVERVIEW\n",
    "\n",
    "This iPython Notebook uses the **_Boston Housing_** data set to illustrate\n",
    "\n",
    "- **Decision Trees** and trees-related **_ensemble modeling_** methods:\n",
    "- **Random Forests**, which are based on **Bootstrap Aggregating** (\"**Bagging**\") applied to trees; and \n",
    "- **Boosted Additive (Trees) Models**."
   ]
  },
  {
   "cell_type": "markdown",
   "metadata": {},
   "source": [
    "# _first, some boring logistics..._\n",
    "\n",
    "Let's first:\n",
    "\n",
    "- install and import some necessary Python packages and helper modules; and\n",
    "- set some constants."
   ]
  },
  {
   "cell_type": "code",
   "execution_count": 1,
   "metadata": {
    "collapsed": false
   },
   "outputs": [],
   "source": [
    "# enable in-line MatPlotLib\n",
    "%matplotlib inline"
   ]
  },
  {
   "cell_type": "code",
   "execution_count": 2,
   "metadata": {
    "collapsed": false
   },
   "outputs": [
    {
     "name": "stderr",
     "output_type": "stream",
     "text": [
      "/home/mkolar/anaconda/lib/python2.7/site-packages/sklearn/cross_validation.py:44: DeprecationWarning: This module was deprecated in version 0.18 in favor of the model_selection module into which all the refactored classes and functions are moved. Also note that the interface of the new CV iterators are different from that of this module. This module will be removed in 0.20.\n",
      "  \"This module will be removed in 0.20.\", DeprecationWarning)\n"
     ]
    }
   ],
   "source": [
    "# import Python packages\n",
    "from __future__ import division, print_function\n",
    "# import ggplot\n",
    "import matplotlib\n",
    "import matplotlib.pyplot as plt\n",
    "import multiprocessing\n",
    "import numpy\n",
    "import os\n",
    "import pandas\n",
    "from sklearn.cross_validation import cross_val_score, KFold\n",
    "from sklearn.ensemble import GradientBoostingRegressor, RandomForestRegressor\n",
    "from sklearn.tree import DecisionTreeRegressor"
   ]
  },
  {
   "cell_type": "code",
   "execution_count": 3,
   "metadata": {
    "collapsed": true
   },
   "outputs": [],
   "source": [
    "# set CONSTANTS\n",
    "\n",
    "# data paths\n",
    "DATA_FILE_NAME = 'BostonHousing.csv'\n",
    "DATA_URL = 'https://raw.githubusercontent.com/ChicagoBoothML/DATA___BostonHousing/master/%s' % DATA_FILE_NAME\n",
    "\n",
    "# number of examples to show from a data set\n",
    "NB_EXAMPLES_TO_SHOW = 9\n",
    "\n",
    "# random seed\n",
    "RANDOM_SEED = 99"
   ]
  },
  {
   "cell_type": "code",
   "execution_count": 4,
   "metadata": {
    "collapsed": true
   },
   "outputs": [],
   "source": [
    "def mse(y_hat, y):\n",
    "    return ((y_hat - y) ** 2).mean()"
   ]
  },
  {
   "cell_type": "markdown",
   "metadata": {},
   "source": [
    "# Boston Housing data set\n",
    "\n",
    "Let's now import the Boston Housing data into a **`pandas`** data frame:"
   ]
  },
  {
   "cell_type": "code",
   "execution_count": 5,
   "metadata": {
    "collapsed": false
   },
   "outputs": [
    {
     "data": {
      "text/html": [
       "<div>\n",
       "<table border=\"1\" class=\"dataframe\">\n",
       "  <thead>\n",
       "    <tr style=\"text-align: right;\">\n",
       "      <th></th>\n",
       "      <th>crim</th>\n",
       "      <th>zn</th>\n",
       "      <th>indus</th>\n",
       "      <th>chas</th>\n",
       "      <th>nox</th>\n",
       "      <th>rm</th>\n",
       "      <th>age</th>\n",
       "      <th>dis</th>\n",
       "      <th>rad</th>\n",
       "      <th>tax</th>\n",
       "      <th>ptratio</th>\n",
       "      <th>black</th>\n",
       "      <th>lstat</th>\n",
       "      <th>medv</th>\n",
       "    </tr>\n",
       "  </thead>\n",
       "  <tbody>\n",
       "    <tr>\n",
       "      <th>161</th>\n",
       "      <td>1.46336</td>\n",
       "      <td>0.0</td>\n",
       "      <td>19.58</td>\n",
       "      <td>0</td>\n",
       "      <td>0.6050</td>\n",
       "      <td>7.489</td>\n",
       "      <td>90.8</td>\n",
       "      <td>1.9709</td>\n",
       "      <td>5</td>\n",
       "      <td>403</td>\n",
       "      <td>14.7</td>\n",
       "      <td>374.43</td>\n",
       "      <td>1.73</td>\n",
       "      <td>50.0</td>\n",
       "    </tr>\n",
       "    <tr>\n",
       "      <th>162</th>\n",
       "      <td>1.83377</td>\n",
       "      <td>0.0</td>\n",
       "      <td>19.58</td>\n",
       "      <td>1</td>\n",
       "      <td>0.6050</td>\n",
       "      <td>7.802</td>\n",
       "      <td>98.2</td>\n",
       "      <td>2.0407</td>\n",
       "      <td>5</td>\n",
       "      <td>403</td>\n",
       "      <td>14.7</td>\n",
       "      <td>389.61</td>\n",
       "      <td>1.92</td>\n",
       "      <td>50.0</td>\n",
       "    </tr>\n",
       "    <tr>\n",
       "      <th>40</th>\n",
       "      <td>0.03359</td>\n",
       "      <td>75.0</td>\n",
       "      <td>2.95</td>\n",
       "      <td>0</td>\n",
       "      <td>0.4280</td>\n",
       "      <td>7.024</td>\n",
       "      <td>15.8</td>\n",
       "      <td>5.4011</td>\n",
       "      <td>3</td>\n",
       "      <td>252</td>\n",
       "      <td>18.3</td>\n",
       "      <td>395.62</td>\n",
       "      <td>1.98</td>\n",
       "      <td>34.9</td>\n",
       "    </tr>\n",
       "    <tr>\n",
       "      <th>232</th>\n",
       "      <td>0.57529</td>\n",
       "      <td>0.0</td>\n",
       "      <td>6.20</td>\n",
       "      <td>0</td>\n",
       "      <td>0.5070</td>\n",
       "      <td>8.337</td>\n",
       "      <td>73.3</td>\n",
       "      <td>3.8384</td>\n",
       "      <td>8</td>\n",
       "      <td>307</td>\n",
       "      <td>17.4</td>\n",
       "      <td>385.91</td>\n",
       "      <td>2.47</td>\n",
       "      <td>41.7</td>\n",
       "    </tr>\n",
       "    <tr>\n",
       "      <th>192</th>\n",
       "      <td>0.08664</td>\n",
       "      <td>45.0</td>\n",
       "      <td>3.44</td>\n",
       "      <td>0</td>\n",
       "      <td>0.4370</td>\n",
       "      <td>7.178</td>\n",
       "      <td>26.3</td>\n",
       "      <td>6.4798</td>\n",
       "      <td>5</td>\n",
       "      <td>398</td>\n",
       "      <td>15.2</td>\n",
       "      <td>390.49</td>\n",
       "      <td>2.87</td>\n",
       "      <td>36.4</td>\n",
       "    </tr>\n",
       "    <tr>\n",
       "      <th>204</th>\n",
       "      <td>0.02009</td>\n",
       "      <td>95.0</td>\n",
       "      <td>2.68</td>\n",
       "      <td>0</td>\n",
       "      <td>0.4161</td>\n",
       "      <td>8.034</td>\n",
       "      <td>31.9</td>\n",
       "      <td>5.1180</td>\n",
       "      <td>4</td>\n",
       "      <td>224</td>\n",
       "      <td>14.7</td>\n",
       "      <td>390.55</td>\n",
       "      <td>2.88</td>\n",
       "      <td>50.0</td>\n",
       "    </tr>\n",
       "    <tr>\n",
       "      <th>3</th>\n",
       "      <td>0.03237</td>\n",
       "      <td>0.0</td>\n",
       "      <td>2.18</td>\n",
       "      <td>0</td>\n",
       "      <td>0.4580</td>\n",
       "      <td>6.998</td>\n",
       "      <td>45.8</td>\n",
       "      <td>6.0622</td>\n",
       "      <td>3</td>\n",
       "      <td>222</td>\n",
       "      <td>18.7</td>\n",
       "      <td>394.63</td>\n",
       "      <td>2.94</td>\n",
       "      <td>33.4</td>\n",
       "    </tr>\n",
       "    <tr>\n",
       "      <th>370</th>\n",
       "      <td>6.53876</td>\n",
       "      <td>0.0</td>\n",
       "      <td>18.10</td>\n",
       "      <td>1</td>\n",
       "      <td>0.6310</td>\n",
       "      <td>7.016</td>\n",
       "      <td>97.5</td>\n",
       "      <td>1.2024</td>\n",
       "      <td>24</td>\n",
       "      <td>666</td>\n",
       "      <td>20.2</td>\n",
       "      <td>392.05</td>\n",
       "      <td>2.96</td>\n",
       "      <td>50.0</td>\n",
       "    </tr>\n",
       "    <tr>\n",
       "      <th>195</th>\n",
       "      <td>0.01381</td>\n",
       "      <td>80.0</td>\n",
       "      <td>0.46</td>\n",
       "      <td>0</td>\n",
       "      <td>0.4220</td>\n",
       "      <td>7.875</td>\n",
       "      <td>32.0</td>\n",
       "      <td>5.6484</td>\n",
       "      <td>4</td>\n",
       "      <td>255</td>\n",
       "      <td>14.4</td>\n",
       "      <td>394.23</td>\n",
       "      <td>2.97</td>\n",
       "      <td>50.0</td>\n",
       "    </tr>\n",
       "  </tbody>\n",
       "</table>\n",
       "</div>"
      ],
      "text/plain": [
       "        crim    zn  indus  chas     nox     rm   age     dis  rad  tax  \\\n",
       "161  1.46336   0.0  19.58     0  0.6050  7.489  90.8  1.9709    5  403   \n",
       "162  1.83377   0.0  19.58     1  0.6050  7.802  98.2  2.0407    5  403   \n",
       "40   0.03359  75.0   2.95     0  0.4280  7.024  15.8  5.4011    3  252   \n",
       "232  0.57529   0.0   6.20     0  0.5070  8.337  73.3  3.8384    8  307   \n",
       "192  0.08664  45.0   3.44     0  0.4370  7.178  26.3  6.4798    5  398   \n",
       "204  0.02009  95.0   2.68     0  0.4161  8.034  31.9  5.1180    4  224   \n",
       "3    0.03237   0.0   2.18     0  0.4580  6.998  45.8  6.0622    3  222   \n",
       "370  6.53876   0.0  18.10     1  0.6310  7.016  97.5  1.2024   24  666   \n",
       "195  0.01381  80.0   0.46     0  0.4220  7.875  32.0  5.6484    4  255   \n",
       "\n",
       "     ptratio   black  lstat  medv  \n",
       "161     14.7  374.43   1.73  50.0  \n",
       "162     14.7  389.61   1.92  50.0  \n",
       "40      18.3  395.62   1.98  34.9  \n",
       "232     17.4  385.91   2.47  41.7  \n",
       "192     15.2  390.49   2.87  36.4  \n",
       "204     14.7  390.55   2.88  50.0  \n",
       "3       18.7  394.63   2.94  33.4  \n",
       "370     20.2  392.05   2.96  50.0  \n",
       "195     14.4  394.23   2.97  50.0  "
      ]
     },
     "execution_count": 5,
     "metadata": {},
     "output_type": "execute_result"
    }
   ],
   "source": [
    "# read Boston Housing data into data frame\n",
    "boston_housing_df = pandas.read_csv(DATA_URL)\n",
    "\n",
    "boston_housing_df.sort_values(by='lstat', inplace=True)\n",
    "nb_samples = len(boston_housing_df)\n",
    "boston_housing_df[:NB_EXAMPLES_TO_SHOW]"
   ]
  },
  {
   "cell_type": "markdown",
   "metadata": {},
   "source": [
    "# Models with 1 Predictor\n",
    "\n",
    "For illustrative purposes, let's look at two variables of interest: **`lstat`** (our predictor variable(s) $\\mathbf X$) and **`medv`** (our variable to predict $\\mathbf y$). Below is a plot of them against each other:"
   ]
  },
  {
   "cell_type": "code",
   "execution_count": 6,
   "metadata": {
    "collapsed": false
   },
   "outputs": [
    {
     "data": {
      "text/plain": [
       "<matplotlib.text.Text at 0x7ff44bf0acd0>"
      ]
     },
     "execution_count": 6,
     "metadata": {},
     "output_type": "execute_result"
    },
    {
     "data": {
      "image/png": "[encoded data removed]",
      "text/plain": [
       "<matplotlib.figure.Figure at 0x7ff44c7d1790>"
      ]
     },
     "metadata": {},
     "output_type": "display_data"
    }
   ],
   "source": [
    "lstat = boston_housing_df['lstat']\n",
    "medv = boston_housing_df['medv']\n",
    "plt.scatter(lstat, medv, s = 1, color = 'blue')\n",
    "plt.xlabel('lstat')\n",
    "plt.ylabel('medv')\n",
    "plt.title('Boston Housing : medv v.s. lstat')"
   ]
  },
  {
   "cell_type": "markdown",
   "metadata": {},
   "source": [
    "## Single Decision Trees\n",
    "\n",
    "Let's now play with a few single decision trees, using all samples:"
   ]
  },
  {
   "cell_type": "code",
   "execution_count": 7,
   "metadata": {
    "collapsed": false
   },
   "outputs": [
    {
     "data": {
      "text/plain": [
       "[<matplotlib.lines.Line2D at 0x7ff44cc48650>]"
      ]
     },
     "execution_count": 7,
     "metadata": {},
     "output_type": "execute_result"
    },
    {
     "data": {
      "image/png": "[encoded data removed]",
      "text/plain": [
       "<matplotlib.figure.Figure at 0x7ff44bf5fad0>"
      ]
     },
     "metadata": {},
     "output_type": "display_data"
    }
   ],
   "source": [
    "tree_model = \\\n",
    "    DecisionTreeRegressor(\n",
    "        criterion='mse',\n",
    "        splitter='best',\n",
    "        max_depth=None,   # expand until all leaves are pure or contain < MIN_SAMPLES_SPLIT samples\n",
    "        min_samples_split=200,\n",
    "        min_samples_leaf=100,\n",
    "        min_weight_fraction_leaf=0.0,\n",
    "        max_features=None,   # number of features to consider when looking for the best split; None: max_features=n_features\n",
    "        max_leaf_nodes=None,   # None: unlimited number of leaf nodes\n",
    "        random_state=RANDOM_SEED)\n",
    "\n",
    "tree_model.fit(\n",
    "    X=boston_housing_df[['lstat']],\n",
    "    y=boston_housing_df.medv)\n",
    "\n",
    "predicted_medv = tree_model.predict(X=boston_housing_df[['lstat']])\n",
    "\n",
    "lstat = boston_housing_df['lstat']\n",
    "medv = boston_housing_df['medv']\n",
    "plt.scatter(lstat, medv, s = 1, color = 'blue')\n",
    "plt.xlabel('lstat')\n",
    "plt.ylabel('medv')\n",
    "plt.title('Boston Housing : medv v.s. lstat and fitted value')\n",
    "plt.plot(lstat, predicted_medv, color = 'red')"
   ]
  },
  {
   "cell_type": "markdown",
   "metadata": {},
   "source": [
    "We see that with the above tuning parameters, the tree model is a **fairly simple, crude step function**. This function seems to have **high bias** and **low variance**."
   ]
  },
  {
   "cell_type": "markdown",
   "metadata": {},
   "source": [
    "Let's try bigger, more complex tree:"
   ]
  },
  {
   "cell_type": "code",
   "execution_count": 8,
   "metadata": {
    "collapsed": false
   },
   "outputs": [
    {
     "data": {
      "text/plain": [
       "[<matplotlib.lines.Line2D at 0x7ff44cc48d90>]"
      ]
     },
     "execution_count": 8,
     "metadata": {},
     "output_type": "execute_result"
    },
    {
     "data": {
      "image/png": "[encoded data removed]",
      "text/plain": [
       "<matplotlib.figure.Figure at 0x7ff4485853d0>"
      ]
     },
     "metadata": {},
     "output_type": "display_data"
    }
   ],
   "source": [
    "tree_model = \\\n",
    "    DecisionTreeRegressor(\n",
    "        criterion='mse',\n",
    "        splitter='best',\n",
    "        max_depth=None,   # expand until all leaves are pure or contain < MIN_SAMPLES_SPLIT samples\n",
    "        min_samples_split=10,\n",
    "        min_samples_leaf=5,\n",
    "        min_weight_fraction_leaf=0.0,\n",
    "        max_features=None,   # number of features to consider when looking for the best split; None: max_features=n_features\n",
    "        max_leaf_nodes=None,   # None: unlimited number of leaf nodes\n",
    "        random_state=RANDOM_SEED)\n",
    "\n",
    "tree_model.fit(\n",
    "    X=boston_housing_df[['lstat']],\n",
    "    y=boston_housing_df.medv)\n",
    "\n",
    "predicted_medv = tree_model.predict(X=boston_housing_df[['lstat']])\n",
    "\n",
    "lstat = boston_housing_df['lstat']\n",
    "medv = boston_housing_df['medv']\n",
    "plt.scatter(lstat, medv, s = 1, color = 'blue')\n",
    "plt.xlabel('lstat')\n",
    "plt.ylabel('medv')\n",
    "plt.title('More complex tree model')\n",
    "plt.plot(lstat, predicted_medv, color = 'red')"
   ]
  },
  {
   "cell_type": "markdown",
   "metadata": {},
   "source": [
    "Now, with the new parameters, we have a more complex model that is **low-bias**, **high-variance**.\n",
    "\n",
    "Fitting a good model with a single tree is difficult, largely because a single tree is fit using a greedy heuristic that may not be optimal in the first place.\n",
    "\n",
    "In practice, trees are almost always used in an **ensemble modeling** manner. The computational inexpensiveness of individual trees allow numerous trees to be fitted in acceptable run times, and collected into an \"ensemble\" of fitted models, the predictions of which are combined in certain ways. Two prominent ensemble methods are **bagging** (**_bootstrap aggregating_**) and **boosting**."
   ]
  },
  {
   "cell_type": "markdown",
   "metadata": {},
   "source": [
    "## Bagging and Random Forests\n",
    "\n",
    "With the [**bagging**](http://en.wikipedia.org/wiki/Bootstrap_aggregating) method, $B$ models of a certain kind (usually, but not necessarily, tree models) are fitted on $B$ bootstrap samples of the training data set, and their **predictions are averaged** to produce the ensemble prediction function.\n",
    "\n",
    "- Each **individual model** among the $B$ model should be a **sufficiently-complex, low-bias** model &ndash; which also means that each individual model is likely to have **high variance**;\n",
    "- The low bias of each model will result in an **average ensemble model that also has low bias**; and\n",
    "- In order to make the ensemble model also have low variance, we select a large enough number $B$, so that individual models' high variances offset each other in the aggregate!\n",
    "\n",
    "The application of \"bagging\" using tree models is called **Random Forest**:"
   ]
  },
  {
   "cell_type": "code",
   "execution_count": 9,
   "metadata": {
    "collapsed": false
   },
   "outputs": [
    {
     "data": {
      "text/plain": [
       "[<matplotlib.lines.Line2D at 0x7ff4483cdc10>]"
      ]
     },
     "execution_count": 9,
     "metadata": {},
     "output_type": "execute_result"
    },
    {
     "data": {
      "image/png": "[encoded data removed]",
      "text/plain": [
       "<matplotlib.figure.Figure at 0x7ff4484ea9d0>"
      ]
     },
     "metadata": {},
     "output_type": "display_data"
    }
   ],
   "source": [
    "B = 5000\n",
    "\n",
    "rf_model = \\\n",
    "    RandomForestRegressor(\n",
    "        n_estimators=B,\n",
    "        criterion='mse',\n",
    "        max_depth=None,   # expand until all leaves are pure or contain < MIN_SAMPLES_SPLIT samples\n",
    "        min_samples_split=20,\n",
    "        min_samples_leaf=10,\n",
    "        min_weight_fraction_leaf=0.0,\n",
    "        max_features='auto',   # number of features to consider when looking for the best split; \"auto\": max_features=n_features\n",
    "        max_leaf_nodes=None,   # None: unlimited number of leaf nodes\n",
    "        bootstrap=True,\n",
    "        oob_score=True,   # estimate Out-of-Bag RMSE\n",
    "        n_jobs=multiprocessing.cpu_count() - 2,   # paralellize over all CPU cores but 2\n",
    "        random_state=RANDOM_SEED,\n",
    "        verbose=0,\n",
    "        warm_start=False)\n",
    "\n",
    "rf_model.fit(\n",
    "    X=boston_housing_df[['lstat']],\n",
    "    y=boston_housing_df.medv)\n",
    "\n",
    "predicted_medv = rf_model.predict(X=boston_housing_df[['lstat']])\n",
    "\n",
    "lstat = boston_housing_df['lstat']\n",
    "medv = boston_housing_df['medv']\n",
    "plt.scatter(lstat, medv, s = 1, color = 'blue')\n",
    "plt.xlabel('lstat')\n",
    "plt.ylabel('medv')\n",
    "plt.title('Random Forest model')\n",
    "plt.plot(lstat, predicted_medv, color = 'red')"
   ]
  },
  {
   "cell_type": "markdown",
   "metadata": {},
   "source": [
    "We can see that the average prediction of many trees in the Random Forest does well in capturing the signal in the data. We'd be reasonably happy with such a predictive model. The estimated Out-of-Bag (OOB) RMSE of this model is:"
   ]
  },
  {
   "cell_type": "code",
   "execution_count": 10,
   "metadata": {
    "collapsed": false
   },
   "outputs": [
    {
     "data": {
      "text/plain": [
       "5.3780027857772934"
      ]
     },
     "execution_count": 10,
     "metadata": {},
     "output_type": "execute_result"
    }
   ],
   "source": [
    "# note that the \"oob_score_\" provided by SciKit is the estimated Out-of-Bag R^2\n",
    "# from R^2 we can derive a rough RMSE\n",
    "numpy.sqrt(boston_housing_df['medv'].var() * (1 - rf_model.oob_score_))"
   ]
  },
  {
   "cell_type": "markdown",
   "metadata": {},
   "source": [
    "## Boosting\n",
    "\n",
    "With the <a href=\"http://en.wikipedia.org/wiki/Boosting_(machine_learning)\">**boosting**</a> method, we successively advance towards a good model fit by adding up small fractions / proportions of relatively simple models that have low variances but possibly high biases. The key intuition is as follows:\n",
    "\n",
    "- Because individual models are simple and have low variance, the combined additive ensemble model is also likely to have low variance; and\n",
    "- Because models are successively fit to capture the residuals left over from the previous models, models' biases are likely to offset each other, resulting in an additive ensemble model with low bias!\n",
    "\n",
    "Let's now build a tree ensemble using boosting:"
   ]
  },
  {
   "cell_type": "code",
   "execution_count": 11,
   "metadata": {
    "collapsed": false
   },
   "outputs": [
    {
     "data": {
      "text/plain": [
       "[<matplotlib.lines.Line2D at 0x7ff45ee56990>]"
      ]
     },
     "execution_count": 11,
     "metadata": {},
     "output_type": "execute_result"
    },
    {
     "data": {
      "image/png": "[encoded data removed]",
      "text/plain": [
       "<matplotlib.figure.Figure at 0x7ff4484d7550>"
      ]
     },
     "metadata": {},
     "output_type": "display_data"
    }
   ],
   "source": [
    "boost_model = \\\n",
    "    GradientBoostingRegressor(\n",
    "        n_estimators=B,\n",
    "        loss='ls',   # Least-Squares objective loss function\n",
    "        learning_rate=.001,   # shrinkage parameter\n",
    "        subsample=1.0,\n",
    "        min_samples_split=80,\n",
    "        min_samples_leaf=40,\n",
    "        min_weight_fraction_leaf=0.0,\n",
    "        max_depth=10,   # maximum tree depth / number of levels of interaction\n",
    "        init=None,\n",
    "        random_state=RANDOM_SEED,\n",
    "        max_features=None,   # number of features to consider when looking for the best split; None: max_features=n_features\n",
    "        alpha=.9,   # NOT RELEVANT for Least-Squares loss function\n",
    "        verbose=0,\n",
    "        max_leaf_nodes=None,   # None: unlimited number of leaf nodes\n",
    "        warm_start=False)\n",
    "\n",
    "boost_model.fit(\n",
    "    X=boston_housing_df[['lstat']],\n",
    "    y=boston_housing_df.medv)\n",
    "\n",
    "predicted_medv = boost_model.predict(X=boston_housing_df[['lstat']])\n",
    "\n",
    "lstat = boston_housing_df['lstat']\n",
    "medv = boston_housing_df['medv']\n",
    "plt.scatter(lstat, medv, s = 1, color = 'blue')\n",
    "plt.xlabel('lstat')\n",
    "plt.ylabel('medv')\n",
    "plt.title('Boosted Tree model')\n",
    "plt.plot(lstat, predicted_medv, color = 'red')"
   ]
  },
  {
   "cell_type": "markdown",
   "metadata": {},
   "source": [
    "This Boosted Trees ensemble model also looks fair, and its OOS RSME can be estimated using Cross Validation as follows:"
   ]
  },
  {
   "cell_type": "code",
   "execution_count": 12,
   "metadata": {
    "collapsed": false
   },
   "outputs": [
    {
     "data": {
      "text/plain": [
       "5.3708671056104436"
      ]
     },
     "execution_count": 12,
     "metadata": {},
     "output_type": "execute_result"
    }
   ],
   "source": [
    "def mse_score(estimator, X, y):\n",
    "    y_hat = estimator.predict(X)\n",
    "    return mse(y_hat, y)\n",
    "\n",
    "numpy.sqrt(\n",
    "    cross_val_score(\n",
    "        boost_model,\n",
    "        X=boston_housing_df[['lstat']],\n",
    "        y=boston_housing_df.medv,\n",
    "        cv=KFold(n=nb_samples,\n",
    "                 n_folds=5,   # 5-fold cross validation\n",
    "                 shuffle=True),\n",
    "        scoring=mse_score).mean())"
   ]
  },
  {
   "cell_type": "markdown",
   "metadata": {},
   "source": [
    "# Multivariate Models\n",
    "\n",
    "Besides their computation inexpensiveness, another _huge_ advantage of using trees-based algorithms is that they are very scalable to multivariate models, and deals with variable interactions very nicely without the need of standard scaling.\n",
    "\n",
    "Let's build multivariate Random Forest and Boosted Trees models to predict _medv_ using all other variables in the Boston Housing data set:"
   ]
  },
  {
   "cell_type": "code",
   "execution_count": 15,
   "metadata": {
    "collapsed": true
   },
   "outputs": [],
   "source": [
    "nb_columns = len(boston_housing_df.columns)\n",
    "X_column_names = boston_housing_df.columns[:(nb_columns - 1)]"
   ]
  },
  {
   "cell_type": "code",
   "execution_count": 16,
   "metadata": {
    "collapsed": true
   },
   "outputs": [],
   "source": [
    "rf_model.fit(\n",
    "    X=boston_housing_df[X_column_names],\n",
    "    y=boston_housing_df.medv)\n",
    "\n",
    "rf_predictions = \\\n",
    "    rf_model.predict(\n",
    "        X=boston_housing_df[X_column_names])"
   ]
  },
  {
   "cell_type": "markdown",
   "metadata": {},
   "source": [
    "The multivariate Random Forest has an estimated OOB RMSE of:"
   ]
  },
  {
   "cell_type": "code",
   "execution_count": 17,
   "metadata": {
    "collapsed": false
   },
   "outputs": [
    {
     "data": {
      "text/plain": [
       "3.931789358344667"
      ]
     },
     "execution_count": 17,
     "metadata": {},
     "output_type": "execute_result"
    }
   ],
   "source": [
    "numpy.sqrt(boston_housing_df['medv'].var() * (1 - rf_model.oob_score_))"
   ]
  },
  {
   "cell_type": "markdown",
   "metadata": {},
   "source": [
    "which is clearly better than that of the univariate Random Forest model."
   ]
  },
  {
   "cell_type": "code",
   "execution_count": 18,
   "metadata": {
    "collapsed": true
   },
   "outputs": [],
   "source": [
    "boost_model.fit(\n",
    "    X=boston_housing_df[X_column_names],\n",
    "    y=boston_housing_df.medv)\n",
    "\n",
    "boost_predictions = \\\n",
    "    boost_model.predict(\n",
    "        X=boston_housing_df[X_column_names])"
   ]
  },
  {
   "cell_type": "markdown",
   "metadata": {},
   "source": [
    "The multivariate Boosted Trees model has an estimated Cross Validation-estimated OOS RMSE of:"
   ]
  },
  {
   "cell_type": "code",
   "execution_count": 19,
   "metadata": {
    "collapsed": false
   },
   "outputs": [
    {
     "data": {
      "text/plain": [
       "3.805302456423612"
      ]
     },
     "execution_count": 19,
     "metadata": {},
     "output_type": "execute_result"
    }
   ],
   "source": [
    "numpy.sqrt(\n",
    "    cross_val_score(\n",
    "        boost_model,\n",
    "        X=boston_housing_df[X_column_names],\n",
    "        y=boston_housing_df.medv,\n",
    "        cv=KFold(n=nb_samples,\n",
    "                 n_folds=5,   # 5-fold cross validation\n",
    "                 shuffle=True),\n",
    "        scoring=mse_score).mean())"
   ]
  },
  {
   "cell_type": "markdown",
   "metadata": {},
   "source": [
    "again a clear improvement from the univariate Boosted Trees model."
   ]
  },
  {
   "cell_type": "markdown",
   "metadata": {},
   "source": [
    "We can also see that the two models' prediction are pretty aligned:"
   ]
  },
  {
   "cell_type": "code",
   "execution_count": 20,
   "metadata": {
    "collapsed": false
   },
   "outputs": [
    {
     "data": {
      "text/plain": [
       "<matplotlib.text.Text at 0x7ff44649a150>"
      ]
     },
     "execution_count": 20,
     "metadata": {},
     "output_type": "execute_result"
    },
    {
     "data": {
      "image/png": "[encoded data removed]",
      "text/plain": [
       "<matplotlib.figure.Figure at 0x7ff446478450>"
      ]
     },
     "metadata": {},
     "output_type": "display_data"
    }
   ],
   "source": [
    "plt.scatter(\n",
    "    x=rf_predictions,\n",
    "    y=boost_predictions)\n",
    "\n",
    "plt.title('Random Forest vs. Boosted Trees predictions')"
   ]
  },
  {
   "cell_type": "markdown",
   "metadata": {},
   "source": [
    "The two models also agree on the most important variables:"
   ]
  },
  {
   "cell_type": "code",
   "execution_count": 21,
   "metadata": {
    "collapsed": false
   },
   "outputs": [
    {
     "data": {
      "text/html": [
       "<div>\n",
       "<table border=\"1\" class=\"dataframe\">\n",
       "  <thead>\n",
       "    <tr style=\"text-align: right;\">\n",
       "      <th></th>\n",
       "      <th>RandomForest_VarImp</th>\n",
       "      <th>BoostedTrees_VarImp</th>\n",
       "    </tr>\n",
       "  </thead>\n",
       "  <tbody>\n",
       "    <tr>\n",
       "      <th>crim</th>\n",
       "      <td>0.028708</td>\n",
       "      <td>0.035551</td>\n",
       "    </tr>\n",
       "    <tr>\n",
       "      <th>zn</th>\n",
       "      <td>0.000464</td>\n",
       "      <td>0.000013</td>\n",
       "    </tr>\n",
       "    <tr>\n",
       "      <th>indus</th>\n",
       "      <td>0.002540</td>\n",
       "      <td>0.009487</td>\n",
       "    </tr>\n",
       "    <tr>\n",
       "      <th>chas</th>\n",
       "      <td>0.000030</td>\n",
       "      <td>0.000000</td>\n",
       "    </tr>\n",
       "    <tr>\n",
       "      <th>nox</th>\n",
       "      <td>0.016622</td>\n",
       "      <td>0.086986</td>\n",
       "    </tr>\n",
       "    <tr>\n",
       "      <th>rm</th>\n",
       "      <td>0.473038</td>\n",
       "      <td>0.224030</td>\n",
       "    </tr>\n",
       "    <tr>\n",
       "      <th>age</th>\n",
       "      <td>0.009487</td>\n",
       "      <td>0.033198</td>\n",
       "    </tr>\n",
       "    <tr>\n",
       "      <th>dis</th>\n",
       "      <td>0.015246</td>\n",
       "      <td>0.162538</td>\n",
       "    </tr>\n",
       "    <tr>\n",
       "      <th>rad</th>\n",
       "      <td>0.002399</td>\n",
       "      <td>0.015372</td>\n",
       "    </tr>\n",
       "    <tr>\n",
       "      <th>tax</th>\n",
       "      <td>0.005605</td>\n",
       "      <td>0.035650</td>\n",
       "    </tr>\n",
       "    <tr>\n",
       "      <th>ptratio</th>\n",
       "      <td>0.007413</td>\n",
       "      <td>0.056378</td>\n",
       "    </tr>\n",
       "    <tr>\n",
       "      <th>black</th>\n",
       "      <td>0.003221</td>\n",
       "      <td>0.030227</td>\n",
       "    </tr>\n",
       "    <tr>\n",
       "      <th>lstat</th>\n",
       "      <td>0.435227</td>\n",
       "      <td>0.310571</td>\n",
       "    </tr>\n",
       "  </tbody>\n",
       "</table>\n",
       "</div>"
      ],
      "text/plain": [
       "         RandomForest_VarImp  BoostedTrees_VarImp\n",
       "crim                0.028708             0.035551\n",
       "zn                  0.000464             0.000013\n",
       "indus               0.002540             0.009487\n",
       "chas                0.000030             0.000000\n",
       "nox                 0.016622             0.086986\n",
       "rm                  0.473038             0.224030\n",
       "age                 0.009487             0.033198\n",
       "dis                 0.015246             0.162538\n",
       "rad                 0.002399             0.015372\n",
       "tax                 0.005605             0.035650\n",
       "ptratio             0.007413             0.056378\n",
       "black               0.003221             0.030227\n",
       "lstat               0.435227             0.310571"
      ]
     },
     "execution_count": 21,
     "metadata": {},
     "output_type": "execute_result"
    }
   ],
   "source": [
    "feature_importances = \\\n",
    "    pandas.DataFrame(\n",
    "        index=X_column_names)\n",
    "\n",
    "feature_importances['RandomForest_VarImp'] = \\\n",
    "    rf_model.feature_importances_\n",
    "\n",
    "feature_importances['BoostedTrees_VarImp'] = \\\n",
    "    boost_model.feature_importances_\n",
    "    \n",
    "feature_importances"
   ]
  }
 ],
 "metadata": {
  "anaconda-cloud": {},
  "kernelspec": {
   "display_name": "Python 2",
   "language": "python",
   "name": "python2"
  },
  "language_info": {
   "codemirror_mode": {
    "name": "ipython",
    "version": 2
   },
   "file_extension": ".py",
   "mimetype": "text/x-python",
   "name": "python",
   "nbconvert_exporter": "python",
   "pygments_lexer": "ipython2",
   "version": "2.7.11"
  }
 },
 "nbformat": 4,
 "nbformat_minor": 0
}
