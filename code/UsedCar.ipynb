{
 "cells": [
  {
   "cell_type": "markdown",
   "metadata": {},
   "source": [
    "# _import modules & set constants_"
   ]
  },
  {
   "cell_type": "code",
   "execution_count": 1,
   "metadata": {
    "collapsed": true
   },
   "outputs": [],
   "source": [
    "# enable in-line MatPlotLib\n",
    "%matplotlib inline"
   ]
  },
  {
   "cell_type": "code",
   "execution_count": 4,
   "metadata": {
    "collapsed": false
   },
   "outputs": [],
   "source": [
    "# import Python modules\n",
    "from __future__ import division, print_function\n",
    "from matplotlib import pyplot\n",
    "import multiprocessing\n",
    "import numpy\n",
    "import os\n",
    "import pandas\n",
    "from sklearn.cross_validation import cross_val_score, KFold, train_test_split\n",
    "from sklearn.ensemble import GradientBoostingRegressor, RandomForestRegressor"
   ]
  },
  {
   "cell_type": "code",
   "execution_count": 5,
   "metadata": {
    "collapsed": true
   },
   "outputs": [],
   "source": [
    "# set CONSTANTS\n",
    "\n",
    "# using AWS EMR?\n",
    "AWS_EMR_MODE = os.path.expanduser('~') == '/home/hadoop'\n",
    "\n",
    "# data paths\n",
    "DATA_FILE_NAME = 'UsedCars.csv'\n",
    "DATA_URL = 'https://raw.githubusercontent.com/ChicagoBoothML/DATA___UsedCars/master/%s' % DATA_FILE_NAME\n",
    "\n",
    "# number of examples to display from a data set\n",
    "NB_EXAMPLES_TO_SHOW = 9\n",
    "\n",
    "# random seed\n",
    "RANDOM_SEED = 99"
   ]
  },
  {
   "cell_type": "code",
   "execution_count": 20,
   "metadata": {
    "collapsed": true
   },
   "outputs": [],
   "source": [
    "def mse(y_hat, y):\n",
    "    return ((y_hat - y) ** 2).mean()\n",
    "\n",
    "\n",
    "def rmse(y_hat, y):\n",
    "    return numpy.sqrt(((y_hat - y) ** 2).mean())"
   ]
  },
  {
   "cell_type": "markdown",
   "metadata": {},
   "source": [
    "# import Used Cars data set"
   ]
  },
  {
   "cell_type": "code",
   "execution_count": 7,
   "metadata": {
    "collapsed": false
   },
   "outputs": [
    {
     "data": {
      "text/html": [
       "<div>\n",
       "<table border=\"1\" class=\"dataframe\">\n",
       "  <thead>\n",
       "    <tr style=\"text-align: right;\">\n",
       "      <th></th>\n",
       "      <th>price</th>\n",
       "      <th>trim</th>\n",
       "      <th>isOneOwner</th>\n",
       "      <th>mileage</th>\n",
       "      <th>year</th>\n",
       "      <th>color</th>\n",
       "      <th>displacement</th>\n",
       "      <th>fuel</th>\n",
       "      <th>region</th>\n",
       "      <th>soundSystem</th>\n",
       "      <th>wheelType</th>\n",
       "    </tr>\n",
       "  </thead>\n",
       "  <tbody>\n",
       "    <tr>\n",
       "      <th>0</th>\n",
       "      <td>2988.0</td>\n",
       "      <td>320</td>\n",
       "      <td>f</td>\n",
       "      <td>193296.0</td>\n",
       "      <td>1995.0</td>\n",
       "      <td>Black</td>\n",
       "      <td>3.2</td>\n",
       "      <td>Gasoline</td>\n",
       "      <td>SoA</td>\n",
       "      <td>unsp</td>\n",
       "      <td>Alloy</td>\n",
       "    </tr>\n",
       "    <tr>\n",
       "      <th>1</th>\n",
       "      <td>6595.0</td>\n",
       "      <td>320</td>\n",
       "      <td>f</td>\n",
       "      <td>129948.0</td>\n",
       "      <td>1995.0</td>\n",
       "      <td>other</td>\n",
       "      <td>3.2</td>\n",
       "      <td>Gasoline</td>\n",
       "      <td>Mid</td>\n",
       "      <td>Premium</td>\n",
       "      <td>Alloy</td>\n",
       "    </tr>\n",
       "    <tr>\n",
       "      <th>2</th>\n",
       "      <td>7993.0</td>\n",
       "      <td>320</td>\n",
       "      <td>f</td>\n",
       "      <td>140428.0</td>\n",
       "      <td>1997.0</td>\n",
       "      <td>White</td>\n",
       "      <td>3.2</td>\n",
       "      <td>Gasoline</td>\n",
       "      <td>Mid</td>\n",
       "      <td>Bose</td>\n",
       "      <td>Alloy</td>\n",
       "    </tr>\n",
       "    <tr>\n",
       "      <th>3</th>\n",
       "      <td>5995.0</td>\n",
       "      <td>420</td>\n",
       "      <td>f</td>\n",
       "      <td>113622.0</td>\n",
       "      <td>1999.0</td>\n",
       "      <td>Silver</td>\n",
       "      <td>4.2</td>\n",
       "      <td>Gasoline</td>\n",
       "      <td>Mid</td>\n",
       "      <td>unsp</td>\n",
       "      <td>Alloy</td>\n",
       "    </tr>\n",
       "    <tr>\n",
       "      <th>4</th>\n",
       "      <td>3000.0</td>\n",
       "      <td>420</td>\n",
       "      <td>f</td>\n",
       "      <td>167673.0</td>\n",
       "      <td>1999.0</td>\n",
       "      <td>Silver</td>\n",
       "      <td>4.2</td>\n",
       "      <td>Gasoline</td>\n",
       "      <td>SoA</td>\n",
       "      <td>unsp</td>\n",
       "      <td>Alloy</td>\n",
       "    </tr>\n",
       "    <tr>\n",
       "      <th>5</th>\n",
       "      <td>7400.0</td>\n",
       "      <td>430</td>\n",
       "      <td>f</td>\n",
       "      <td>82419.0</td>\n",
       "      <td>2002.0</td>\n",
       "      <td>White</td>\n",
       "      <td>4.3</td>\n",
       "      <td>Gasoline</td>\n",
       "      <td>Mid</td>\n",
       "      <td>Bose</td>\n",
       "      <td>Alloy</td>\n",
       "    </tr>\n",
       "    <tr>\n",
       "      <th>6</th>\n",
       "      <td>10850.0</td>\n",
       "      <td>430</td>\n",
       "      <td>f</td>\n",
       "      <td>101264.0</td>\n",
       "      <td>2000.0</td>\n",
       "      <td>White</td>\n",
       "      <td>4.3</td>\n",
       "      <td>Gasoline</td>\n",
       "      <td>SoA</td>\n",
       "      <td>unsp</td>\n",
       "      <td>unsp</td>\n",
       "    </tr>\n",
       "    <tr>\n",
       "      <th>7</th>\n",
       "      <td>8990.0</td>\n",
       "      <td>430</td>\n",
       "      <td>f</td>\n",
       "      <td>110651.0</td>\n",
       "      <td>2001.0</td>\n",
       "      <td>Black</td>\n",
       "      <td>4.3</td>\n",
       "      <td>Gasoline</td>\n",
       "      <td>SoA</td>\n",
       "      <td>unsp</td>\n",
       "      <td>Alloy</td>\n",
       "    </tr>\n",
       "    <tr>\n",
       "      <th>8</th>\n",
       "      <td>7950.0</td>\n",
       "      <td>430</td>\n",
       "      <td>f</td>\n",
       "      <td>108173.0</td>\n",
       "      <td>2000.0</td>\n",
       "      <td>Silver</td>\n",
       "      <td>4.3</td>\n",
       "      <td>Gasoline</td>\n",
       "      <td>ESC</td>\n",
       "      <td>Bose</td>\n",
       "      <td>unsp</td>\n",
       "    </tr>\n",
       "  </tbody>\n",
       "</table>\n",
       "</div>"
      ],
      "text/plain": [
       "     price trim isOneOwner   mileage    year   color  displacement      fuel  \\\n",
       "0   2988.0  320          f  193296.0  1995.0   Black           3.2  Gasoline   \n",
       "1   6595.0  320          f  129948.0  1995.0   other           3.2  Gasoline   \n",
       "2   7993.0  320          f  140428.0  1997.0   White           3.2  Gasoline   \n",
       "3   5995.0  420          f  113622.0  1999.0  Silver           4.2  Gasoline   \n",
       "4   3000.0  420          f  167673.0  1999.0  Silver           4.2  Gasoline   \n",
       "5   7400.0  430          f   82419.0  2002.0   White           4.3  Gasoline   \n",
       "6  10850.0  430          f  101264.0  2000.0   White           4.3  Gasoline   \n",
       "7   8990.0  430          f  110651.0  2001.0   Black           4.3  Gasoline   \n",
       "8   7950.0  430          f  108173.0  2000.0  Silver           4.3  Gasoline   \n",
       "\n",
       "  region soundSystem wheelType  \n",
       "0    SoA        unsp     Alloy  \n",
       "1    Mid     Premium     Alloy  \n",
       "2    Mid        Bose     Alloy  \n",
       "3    Mid        unsp     Alloy  \n",
       "4    SoA        unsp     Alloy  \n",
       "5    Mid        Bose     Alloy  \n",
       "6    SoA        unsp      unsp  \n",
       "7    SoA        unsp     Alloy  \n",
       "8    ESC        Bose      unsp  "
      ]
     },
     "execution_count": 7,
     "metadata": {},
     "output_type": "execute_result"
    }
   ],
   "source": [
    "# read Used Cars data into data frame\n",
    "used_cars_df = \\\n",
    "    pandas.read_csv(\n",
    "        DATA_URL,\n",
    "        dtype=dict(\n",
    "            price=float,\n",
    "            trim=pandas.Categorical,\n",
    "            isOneOwner=pandas.Categorical,\n",
    "            mileage=float,\n",
    "            year=float,\n",
    "            color=pandas.Categorical,\n",
    "            displacement=float,\n",
    "            fuel=pandas.Categorical,\n",
    "            region=pandas.Categorical,\n",
    "            soundSystem=pandas.Categorical,\n",
    "            wheelType=pandas.Categorical))\n",
    "\n",
    "used_cars_df[:NB_EXAMPLES_TO_SHOW]"
   ]
  },
  {
   "cell_type": "markdown",
   "metadata": {},
   "source": [
    "Let's now split the data set into a Training set for fitting models and a Test set for evaluating them:\n",
    "\n",
    "_(**note**: here we shall skip splitting a Validation set because we can use Out-of-Bag and Cross Validation RMSE estimates)_"
   ]
  },
  {
   "cell_type": "code",
   "execution_count": 8,
   "metadata": {
    "collapsed": true
   },
   "outputs": [],
   "source": [
    "used_cars_train_df, used_cars_test_df = \\\n",
    "    train_test_split(\n",
    "        used_cars_df,\n",
    "        train_size=.8,\n",
    "        random_state=RANDOM_SEED)"
   ]
  },
  {
   "cell_type": "code",
   "execution_count": 9,
   "metadata": {
    "collapsed": false
   },
   "outputs": [
    {
     "data": {
      "text/html": [
       "<div>\n",
       "<table border=\"1\" class=\"dataframe\">\n",
       "  <thead>\n",
       "    <tr style=\"text-align: right;\">\n",
       "      <th></th>\n",
       "      <th>price</th>\n",
       "      <th>trim</th>\n",
       "      <th>isOneOwner</th>\n",
       "      <th>mileage</th>\n",
       "      <th>year</th>\n",
       "      <th>color</th>\n",
       "      <th>displacement</th>\n",
       "      <th>fuel</th>\n",
       "      <th>region</th>\n",
       "      <th>soundSystem</th>\n",
       "      <th>wheelType</th>\n",
       "    </tr>\n",
       "  </thead>\n",
       "  <tbody>\n",
       "    <tr>\n",
       "      <th>17246</th>\n",
       "      <td>15000.0</td>\n",
       "      <td>430</td>\n",
       "      <td>f</td>\n",
       "      <td>83072.0</td>\n",
       "      <td>2005.0</td>\n",
       "      <td>Silver</td>\n",
       "      <td>4.3</td>\n",
       "      <td>Gasoline</td>\n",
       "      <td>SoA</td>\n",
       "      <td>unsp</td>\n",
       "      <td>Alloy</td>\n",
       "    </tr>\n",
       "    <tr>\n",
       "      <th>12228</th>\n",
       "      <td>33900.0</td>\n",
       "      <td>550</td>\n",
       "      <td>t</td>\n",
       "      <td>33976.0</td>\n",
       "      <td>2007.0</td>\n",
       "      <td>Silver</td>\n",
       "      <td>5.5</td>\n",
       "      <td>Gasoline</td>\n",
       "      <td>SoA</td>\n",
       "      <td>Harman Kardon</td>\n",
       "      <td>Alloy</td>\n",
       "    </tr>\n",
       "    <tr>\n",
       "      <th>6267</th>\n",
       "      <td>51995.0</td>\n",
       "      <td>550</td>\n",
       "      <td>t</td>\n",
       "      <td>16399.0</td>\n",
       "      <td>2013.0</td>\n",
       "      <td>unsp</td>\n",
       "      <td>4.6</td>\n",
       "      <td>Gasoline</td>\n",
       "      <td>Mid</td>\n",
       "      <td>Harman Kardon</td>\n",
       "      <td>Alloy</td>\n",
       "    </tr>\n",
       "    <tr>\n",
       "      <th>14924</th>\n",
       "      <td>58995.0</td>\n",
       "      <td>550</td>\n",
       "      <td>f</td>\n",
       "      <td>17000.0</td>\n",
       "      <td>2012.0</td>\n",
       "      <td>Black</td>\n",
       "      <td>4.6</td>\n",
       "      <td>Gasoline</td>\n",
       "      <td>New</td>\n",
       "      <td>Premium</td>\n",
       "      <td>Alloy</td>\n",
       "    </tr>\n",
       "    <tr>\n",
       "      <th>9499</th>\n",
       "      <td>30980.0</td>\n",
       "      <td>550</td>\n",
       "      <td>f</td>\n",
       "      <td>57514.0</td>\n",
       "      <td>2008.0</td>\n",
       "      <td>White</td>\n",
       "      <td>5.5</td>\n",
       "      <td>Gasoline</td>\n",
       "      <td>Pac</td>\n",
       "      <td>Harman Kardon</td>\n",
       "      <td>unsp</td>\n",
       "    </tr>\n",
       "    <tr>\n",
       "      <th>15656</th>\n",
       "      <td>17750.0</td>\n",
       "      <td>430</td>\n",
       "      <td>f</td>\n",
       "      <td>44087.0</td>\n",
       "      <td>2006.0</td>\n",
       "      <td>Blue</td>\n",
       "      <td>4.3</td>\n",
       "      <td>Gasoline</td>\n",
       "      <td>ENC</td>\n",
       "      <td>unsp</td>\n",
       "      <td>Alloy</td>\n",
       "    </tr>\n",
       "    <tr>\n",
       "      <th>14082</th>\n",
       "      <td>30850.0</td>\n",
       "      <td>550</td>\n",
       "      <td>f</td>\n",
       "      <td>71020.0</td>\n",
       "      <td>2007.0</td>\n",
       "      <td>unsp</td>\n",
       "      <td>5.5</td>\n",
       "      <td>Gasoline</td>\n",
       "      <td>Mid</td>\n",
       "      <td>unsp</td>\n",
       "      <td>unsp</td>\n",
       "    </tr>\n",
       "    <tr>\n",
       "      <th>1317</th>\n",
       "      <td>32995.0</td>\n",
       "      <td>550</td>\n",
       "      <td>f</td>\n",
       "      <td>82364.0</td>\n",
       "      <td>2008.0</td>\n",
       "      <td>other</td>\n",
       "      <td>5.5</td>\n",
       "      <td>Gasoline</td>\n",
       "      <td>WSC</td>\n",
       "      <td>unsp</td>\n",
       "      <td>Alloy</td>\n",
       "    </tr>\n",
       "    <tr>\n",
       "      <th>11422</th>\n",
       "      <td>10990.0</td>\n",
       "      <td>500</td>\n",
       "      <td>f</td>\n",
       "      <td>91577.0</td>\n",
       "      <td>2002.0</td>\n",
       "      <td>Silver</td>\n",
       "      <td>5.0</td>\n",
       "      <td>Gasoline</td>\n",
       "      <td>SoA</td>\n",
       "      <td>Bose</td>\n",
       "      <td>unsp</td>\n",
       "    </tr>\n",
       "  </tbody>\n",
       "</table>\n",
       "</div>"
      ],
      "text/plain": [
       "         price trim isOneOwner  mileage    year   color  displacement  \\\n",
       "17246  15000.0  430          f  83072.0  2005.0  Silver           4.3   \n",
       "12228  33900.0  550          t  33976.0  2007.0  Silver           5.5   \n",
       "6267   51995.0  550          t  16399.0  2013.0    unsp           4.6   \n",
       "14924  58995.0  550          f  17000.0  2012.0   Black           4.6   \n",
       "9499   30980.0  550          f  57514.0  2008.0   White           5.5   \n",
       "15656  17750.0  430          f  44087.0  2006.0    Blue           4.3   \n",
       "14082  30850.0  550          f  71020.0  2007.0    unsp           5.5   \n",
       "1317   32995.0  550          f  82364.0  2008.0   other           5.5   \n",
       "11422  10990.0  500          f  91577.0  2002.0  Silver           5.0   \n",
       "\n",
       "           fuel region    soundSystem wheelType  \n",
       "17246  Gasoline    SoA           unsp     Alloy  \n",
       "12228  Gasoline    SoA  Harman Kardon     Alloy  \n",
       "6267   Gasoline    Mid  Harman Kardon     Alloy  \n",
       "14924  Gasoline    New        Premium     Alloy  \n",
       "9499   Gasoline    Pac  Harman Kardon      unsp  \n",
       "15656  Gasoline    ENC           unsp     Alloy  \n",
       "14082  Gasoline    Mid           unsp      unsp  \n",
       "1317   Gasoline    WSC           unsp     Alloy  \n",
       "11422  Gasoline    SoA           Bose      unsp  "
      ]
     },
     "execution_count": 9,
     "metadata": {},
     "output_type": "execute_result"
    }
   ],
   "source": [
    "used_cars_train_df[:NB_EXAMPLES_TO_SHOW]"
   ]
  },
  {
   "cell_type": "code",
   "execution_count": 10,
   "metadata": {
    "collapsed": false
   },
   "outputs": [
    {
     "data": {
      "text/html": [
       "<div>\n",
       "<table border=\"1\" class=\"dataframe\">\n",
       "  <thead>\n",
       "    <tr style=\"text-align: right;\">\n",
       "      <th></th>\n",
       "      <th>price</th>\n",
       "      <th>trim</th>\n",
       "      <th>isOneOwner</th>\n",
       "      <th>mileage</th>\n",
       "      <th>year</th>\n",
       "      <th>color</th>\n",
       "      <th>displacement</th>\n",
       "      <th>fuel</th>\n",
       "      <th>region</th>\n",
       "      <th>soundSystem</th>\n",
       "      <th>wheelType</th>\n",
       "    </tr>\n",
       "  </thead>\n",
       "  <tbody>\n",
       "    <tr>\n",
       "      <th>1203</th>\n",
       "      <td>56444.0</td>\n",
       "      <td>550</td>\n",
       "      <td>f</td>\n",
       "      <td>26334.0</td>\n",
       "      <td>2013.0</td>\n",
       "      <td>White</td>\n",
       "      <td>4.6</td>\n",
       "      <td>Gasoline</td>\n",
       "      <td>WSC</td>\n",
       "      <td>unsp</td>\n",
       "      <td>unsp</td>\n",
       "    </tr>\n",
       "    <tr>\n",
       "      <th>11046</th>\n",
       "      <td>68290.0</td>\n",
       "      <td>550</td>\n",
       "      <td>f</td>\n",
       "      <td>15367.0</td>\n",
       "      <td>2012.0</td>\n",
       "      <td>Black</td>\n",
       "      <td>4.6</td>\n",
       "      <td>Gasoline</td>\n",
       "      <td>SoA</td>\n",
       "      <td>Harman Kardon</td>\n",
       "      <td>Alloy</td>\n",
       "    </tr>\n",
       "    <tr>\n",
       "      <th>3054</th>\n",
       "      <td>10995.0</td>\n",
       "      <td>430</td>\n",
       "      <td>f</td>\n",
       "      <td>116733.0</td>\n",
       "      <td>2004.0</td>\n",
       "      <td>Silver</td>\n",
       "      <td>4.3</td>\n",
       "      <td>Gasoline</td>\n",
       "      <td>WSC</td>\n",
       "      <td>unsp</td>\n",
       "      <td>unsp</td>\n",
       "    </tr>\n",
       "    <tr>\n",
       "      <th>19279</th>\n",
       "      <td>60992.0</td>\n",
       "      <td>550</td>\n",
       "      <td>t</td>\n",
       "      <td>25809.0</td>\n",
       "      <td>2012.0</td>\n",
       "      <td>Black</td>\n",
       "      <td>4.6</td>\n",
       "      <td>Gasoline</td>\n",
       "      <td>SoA</td>\n",
       "      <td>unsp</td>\n",
       "      <td>unsp</td>\n",
       "    </tr>\n",
       "    <tr>\n",
       "      <th>3035</th>\n",
       "      <td>35862.0</td>\n",
       "      <td>400</td>\n",
       "      <td>f</td>\n",
       "      <td>75989.0</td>\n",
       "      <td>2010.0</td>\n",
       "      <td>White</td>\n",
       "      <td>3.5</td>\n",
       "      <td>Hybrid</td>\n",
       "      <td>SoA</td>\n",
       "      <td>Harman Kardon</td>\n",
       "      <td>Alloy</td>\n",
       "    </tr>\n",
       "    <tr>\n",
       "      <th>4894</th>\n",
       "      <td>49492.0</td>\n",
       "      <td>550</td>\n",
       "      <td>f</td>\n",
       "      <td>17232.0</td>\n",
       "      <td>2010.0</td>\n",
       "      <td>Gray</td>\n",
       "      <td>5.5</td>\n",
       "      <td>Gasoline</td>\n",
       "      <td>WSC</td>\n",
       "      <td>Premium</td>\n",
       "      <td>Alloy</td>\n",
       "    </tr>\n",
       "    <tr>\n",
       "      <th>10913</th>\n",
       "      <td>10995.0</td>\n",
       "      <td>55 AMG</td>\n",
       "      <td>f</td>\n",
       "      <td>136105.0</td>\n",
       "      <td>2002.0</td>\n",
       "      <td>Silver</td>\n",
       "      <td>5.4</td>\n",
       "      <td>Gasoline</td>\n",
       "      <td>Pac</td>\n",
       "      <td>Bose</td>\n",
       "      <td>Alloy</td>\n",
       "    </tr>\n",
       "    <tr>\n",
       "      <th>8583</th>\n",
       "      <td>53995.0</td>\n",
       "      <td>550</td>\n",
       "      <td>f</td>\n",
       "      <td>24482.0</td>\n",
       "      <td>2013.0</td>\n",
       "      <td>White</td>\n",
       "      <td>4.6</td>\n",
       "      <td>Gasoline</td>\n",
       "      <td>Mid</td>\n",
       "      <td>unsp</td>\n",
       "      <td>unsp</td>\n",
       "    </tr>\n",
       "    <tr>\n",
       "      <th>13134</th>\n",
       "      <td>15495.0</td>\n",
       "      <td>430</td>\n",
       "      <td>f</td>\n",
       "      <td>78491.0</td>\n",
       "      <td>2005.0</td>\n",
       "      <td>White</td>\n",
       "      <td>4.3</td>\n",
       "      <td>Gasoline</td>\n",
       "      <td>SoA</td>\n",
       "      <td>unsp</td>\n",
       "      <td>unsp</td>\n",
       "    </tr>\n",
       "  </tbody>\n",
       "</table>\n",
       "</div>"
      ],
      "text/plain": [
       "         price    trim isOneOwner   mileage    year   color  displacement  \\\n",
       "1203   56444.0     550          f   26334.0  2013.0   White           4.6   \n",
       "11046  68290.0     550          f   15367.0  2012.0   Black           4.6   \n",
       "3054   10995.0     430          f  116733.0  2004.0  Silver           4.3   \n",
       "19279  60992.0     550          t   25809.0  2012.0   Black           4.6   \n",
       "3035   35862.0     400          f   75989.0  2010.0   White           3.5   \n",
       "4894   49492.0     550          f   17232.0  2010.0    Gray           5.5   \n",
       "10913  10995.0  55 AMG          f  136105.0  2002.0  Silver           5.4   \n",
       "8583   53995.0     550          f   24482.0  2013.0   White           4.6   \n",
       "13134  15495.0     430          f   78491.0  2005.0   White           4.3   \n",
       "\n",
       "           fuel region    soundSystem wheelType  \n",
       "1203   Gasoline    WSC           unsp      unsp  \n",
       "11046  Gasoline    SoA  Harman Kardon     Alloy  \n",
       "3054   Gasoline    WSC           unsp      unsp  \n",
       "19279  Gasoline    SoA           unsp      unsp  \n",
       "3035     Hybrid    SoA  Harman Kardon     Alloy  \n",
       "4894   Gasoline    WSC        Premium     Alloy  \n",
       "10913  Gasoline    Pac           Bose     Alloy  \n",
       "8583   Gasoline    Mid           unsp      unsp  \n",
       "13134  Gasoline    SoA           unsp      unsp  "
      ]
     },
     "execution_count": 10,
     "metadata": {},
     "output_type": "execute_result"
    }
   ],
   "source": [
    "used_cars_test_df[:NB_EXAMPLES_TO_SHOW]"
   ]
  },
  {
   "cell_type": "markdown",
   "metadata": {},
   "source": [
    "To sanity-check, let's plot the distributions of the _price_ variable in the 3 data sets:"
   ]
  },
  {
   "cell_type": "code",
   "execution_count": 11,
   "metadata": {
    "collapsed": false
   },
   "outputs": [
    {
     "data": {
      "text/plain": [
       "<matplotlib.text.Text at 0x7f867c74d190>"
      ]
     },
     "execution_count": 11,
     "metadata": {},
     "output_type": "execute_result"
    },
    {
     "data": {
      "image/png": "[encoded data removed]",
      "text/plain": [
       "<matplotlib.figure.Figure at 0x7f867f4c8a10>"
      ]
     },
     "metadata": {},
     "output_type": "display_data"
    }
   ],
   "source": [
    "pyplot.hist(list(used_cars_df.price))\n",
    "pyplot.title('Distribution of PRICE in all samples')"
   ]
  },
  {
   "cell_type": "code",
   "execution_count": 12,
   "metadata": {
    "collapsed": false
   },
   "outputs": [
    {
     "data": {
      "text/plain": [
       "<matplotlib.text.Text at 0x7f867c6181d0>"
      ]
     },
     "execution_count": 12,
     "metadata": {},
     "output_type": "execute_result"
    },
    {
     "data": {
      "image/png": "[encoded data removed]",
      "text/plain": [
       "<matplotlib.figure.Figure at 0x7f867f226150>"
      ]
     },
     "metadata": {},
     "output_type": "display_data"
    }
   ],
   "source": [
    "pyplot.hist(list(used_cars_train_df.price))\n",
    "pyplot.title('Distribution of PRICE in Training samples')"
   ]
  },
  {
   "cell_type": "code",
   "execution_count": 13,
   "metadata": {
    "collapsed": false
   },
   "outputs": [
    {
     "data": {
      "text/plain": [
       "<matplotlib.text.Text at 0x7f867c494c90>"
      ]
     },
     "execution_count": 13,
     "metadata": {},
     "output_type": "execute_result"
    },
    {
     "data": {
      "image/png": "[encoded data removed]",
      "text/plain": [
       "<matplotlib.figure.Figure at 0x7f867c5779d0>"
      ]
     },
     "metadata": {},
     "output_type": "display_data"
    }
   ],
   "source": [
    "pyplot.hist(list(used_cars_test_df.price))\n",
    "pyplot.title('Distribution of PRICE in Test samples')"
   ]
  },
  {
   "cell_type": "markdown",
   "metadata": {},
   "source": [
    "# Random Forest models"
   ]
  },
  {
   "cell_type": "code",
   "execution_count": 14,
   "metadata": {
    "collapsed": true
   },
   "outputs": [],
   "source": [
    "B = 300\n",
    "\n",
    "rf_model = \\\n",
    "    RandomForestRegressor(\n",
    "        n_estimators=B,\n",
    "        criterion='mse',\n",
    "        max_depth=None,   # expand until all leaves are pure or contain < MIN_SAMPLES_SPLIT samples\n",
    "        min_samples_split=60,\n",
    "        min_samples_leaf=30,\n",
    "        min_weight_fraction_leaf=0.0,\n",
    "        max_features='auto',   # number of features to consider when looking for the best split; \"auto\": max_features=n_features\n",
    "        max_leaf_nodes=None,   # None: unlimited number of leaf nodes\n",
    "        bootstrap=True,\n",
    "        oob_score=True,   # estimate Out-of-Bag RMSE\n",
    "        n_jobs=multiprocessing.cpu_count() - 2,   # paralellize over all CPU cores but 2\n",
    "        random_state=RANDOM_SEED,\n",
    "        verbose=0,\n",
    "        warm_start=False)"
   ]
  },
  {
   "cell_type": "markdown",
   "metadata": {},
   "source": [
    "## Random Forest with 2 Predictors"
   ]
  },
  {
   "cell_type": "code",
   "execution_count": 15,
   "metadata": {
    "collapsed": false
   },
   "outputs": [
    {
     "data": {
      "text/plain": [
       "RandomForestRegressor(bootstrap=True, criterion='mse', max_depth=None,\n",
       "           max_features='auto', max_leaf_nodes=None,\n",
       "           min_impurity_split=1e-07, min_samples_leaf=30,\n",
       "           min_samples_split=60, min_weight_fraction_leaf=0.0,\n",
       "           n_estimators=300, n_jobs=2, oob_score=True, random_state=99,\n",
       "           verbose=0, warm_start=False)"
      ]
     },
     "execution_count": 15,
     "metadata": {},
     "output_type": "execute_result"
    }
   ],
   "source": [
    "rf_model.fit(\n",
    "    X=used_cars_train_df[['mileage', 'year']],\n",
    "    y=used_cars_train_df.price)"
   ]
  },
  {
   "cell_type": "markdown",
   "metadata": {},
   "source": [
    "The estimated OOB RMSE of this Random Forest Model is:"
   ]
  },
  {
   "cell_type": "code",
   "execution_count": 16,
   "metadata": {
    "collapsed": false
   },
   "outputs": [
    {
     "data": {
      "text/plain": [
       "5395.4169888935658"
      ]
     },
     "execution_count": 16,
     "metadata": {},
     "output_type": "execute_result"
    }
   ],
   "source": [
    "# note that the \"oob_score_\" provided by SciKit is the estimated Out-of-Bag R^2\n",
    "# from R^2 we can derive a rough RMSE\n",
    "numpy.sqrt(used_cars_train_df['price'].var() * (1 - rf_model.oob_score_))"
   ]
  },
  {
   "cell_type": "markdown",
   "metadata": {},
   "source": [
    "The Test-set OOS RMSE is:"
   ]
  },
  {
   "cell_type": "code",
   "execution_count": 21,
   "metadata": {
    "collapsed": false
   },
   "outputs": [
    {
     "data": {
      "text/plain": [
       "5234.5403545179061"
      ]
     },
     "execution_count": 21,
     "metadata": {},
     "output_type": "execute_result"
    }
   ],
   "source": [
    "rmse(y_hat=rf_model.predict(used_cars_test_df[['mileage', 'year']]),\n",
    "     y=used_cars_test_df.price)"
   ]
  },
  {
   "cell_type": "markdown",
   "metadata": {},
   "source": [
    "## Random Forest with Many Predictors"
   ]
  },
  {
   "cell_type": "code",
   "execution_count": 22,
   "metadata": {
    "collapsed": true
   },
   "outputs": [],
   "source": [
    "predictor_names = \\\n",
    "    ['trim', 'isOneOwner', 'mileage', 'year', 'color',\n",
    "     'displacement', 'fuel', 'region', 'soundSystem', 'wheelType']"
   ]
  },
  {
   "cell_type": "code",
   "execution_count": 23,
   "metadata": {
    "collapsed": false
   },
   "outputs": [
    {
     "data": {
      "text/plain": [
       "RandomForestRegressor(bootstrap=True, criterion='mse', max_depth=None,\n",
       "           max_features='auto', max_leaf_nodes=None,\n",
       "           min_impurity_split=1e-07, min_samples_leaf=30,\n",
       "           min_samples_split=60, min_weight_fraction_leaf=0.0,\n",
       "           n_estimators=300, n_jobs=2, oob_score=True, random_state=99,\n",
       "           verbose=0, warm_start=False)"
      ]
     },
     "execution_count": 23,
     "metadata": {},
     "output_type": "execute_result"
    }
   ],
   "source": [
    "rf_model.fit(\n",
    "    X=pandas.get_dummies(\n",
    "        used_cars_train_df[predictor_names]),\n",
    "    y=used_cars_train_df.price)\n",
    "    # (GET_DUMMIES expands the categorical variables)"
   ]
  },
  {
   "cell_type": "markdown",
   "metadata": {},
   "source": [
    "The estimated OOB RMSE of this Random Forest Model is:"
   ]
  },
  {
   "cell_type": "code",
   "execution_count": 24,
   "metadata": {
    "collapsed": false
   },
   "outputs": [
    {
     "data": {
      "text/plain": [
       "4498.1062890751618"
      ]
     },
     "execution_count": 24,
     "metadata": {},
     "output_type": "execute_result"
    }
   ],
   "source": [
    "# note that the \"oob_score_\" provided by SciKit is the estimated Out-of-Bag R^2\n",
    "# from R^2 we can derive a rough RMSE\n",
    "numpy.sqrt(used_cars_train_df['price'].var() * (1 - rf_model.oob_score_))"
   ]
  },
  {
   "cell_type": "markdown",
   "metadata": {},
   "source": [
    "The Test-set OOS RMSE is:"
   ]
  },
  {
   "cell_type": "code",
   "execution_count": 25,
   "metadata": {
    "collapsed": false
   },
   "outputs": [
    {
     "data": {
      "text/plain": [
       "4469.8265582407212"
      ]
     },
     "execution_count": 25,
     "metadata": {},
     "output_type": "execute_result"
    }
   ],
   "source": [
    "rmse(y_hat=rf_model.predict(pandas.get_dummies(used_cars_test_df[predictor_names])),\n",
    "     y=used_cars_test_df.price)"
   ]
  },
  {
   "cell_type": "markdown",
   "metadata": {},
   "source": [
    "# Boosted Trees models"
   ]
  },
  {
   "cell_type": "code",
   "execution_count": 26,
   "metadata": {
    "collapsed": true
   },
   "outputs": [],
   "source": [
    "B = 1000\n",
    "\n",
    "boost_model = \\\n",
    "    GradientBoostingRegressor(\n",
    "        n_estimators=B,\n",
    "        loss='ls',   # Least-Squares objective loss function\n",
    "        learning_rate=.01,   # shrinkage parameter\n",
    "        subsample=1.0,\n",
    "        min_samples_split=200,\n",
    "        min_samples_leaf=100,\n",
    "        min_weight_fraction_leaf=0.0,\n",
    "        max_depth=10,   # maximum tree depth / number of levels of interaction\n",
    "        init=None,\n",
    "        random_state=RANDOM_SEED,\n",
    "        max_features=None,   # number of features to consider when looking for the best split; None: max_features=n_features\n",
    "        alpha=0.9,   # NOT RELEVANT for Least-Squares loss function\n",
    "        verbose=0,\n",
    "        max_leaf_nodes=None,   # None: unlimited number of leaf nodes\n",
    "        warm_start=False)"
   ]
  },
  {
   "cell_type": "markdown",
   "metadata": {},
   "source": [
    "## Boosted Trees with 2 Predictors"
   ]
  },
  {
   "cell_type": "markdown",
   "metadata": {},
   "source": [
    "Based on the Training set, a Boosted Trees ensemble with 2 predictors has the following estimated OOS RSME:"
   ]
  },
  {
   "cell_type": "code",
   "execution_count": 27,
   "metadata": {
    "collapsed": false
   },
   "outputs": [
    {
     "data": {
      "text/plain": [
       "5386.9179285934979"
      ]
     },
     "execution_count": 27,
     "metadata": {},
     "output_type": "execute_result"
    }
   ],
   "source": [
    "def mse_score(estimator, X, y):\n",
    "    y_hat = estimator.predict(X)\n",
    "    return mse(y_hat, y)\n",
    "\n",
    "numpy.sqrt(\n",
    "    cross_val_score(\n",
    "        boost_model,\n",
    "        X=used_cars_train_df[['mileage', 'year']],\n",
    "        y=used_cars_train_df.price,\n",
    "        cv=KFold(n=len(used_cars_train_df),\n",
    "                 n_folds=5,   # 5-fold cross validation\n",
    "                 shuffle=True),\n",
    "        scoring=mse_score).mean())"
   ]
  },
  {
   "cell_type": "markdown",
   "metadata": {},
   "source": [
    "And the Test-set OOS RMSE is:"
   ]
  },
  {
   "cell_type": "code",
   "execution_count": 28,
   "metadata": {
    "collapsed": false
   },
   "outputs": [
    {
     "data": {
      "text/plain": [
       "5229.3123880159692"
      ]
     },
     "execution_count": 28,
     "metadata": {},
     "output_type": "execute_result"
    }
   ],
   "source": [
    "boost_model.fit(\n",
    "    X=used_cars_train_df[['mileage', 'year']],\n",
    "    y=used_cars_train_df.price)\n",
    "\n",
    "rmse(y_hat=boost_model.predict(used_cars_test_df[['mileage', 'year']]),\n",
    "     y=used_cars_test_df.price)"
   ]
  },
  {
   "cell_type": "markdown",
   "metadata": {},
   "source": [
    "## Boosted Trees with Many Predictors"
   ]
  },
  {
   "cell_type": "markdown",
   "metadata": {},
   "source": [
    "Based on the Training set, a Boosted Trees ensemble with many predictors has the following estimated OOS RSME:"
   ]
  },
  {
   "cell_type": "code",
   "execution_count": null,
   "metadata": {
    "collapsed": false
   },
   "outputs": [],
   "source": [
    "numpy.sqrt(\n",
    "    cross_val_score(\n",
    "        boost_model,\n",
    "        X=pandas.get_dummies(used_cars_train_df[predictor_names]),\n",
    "        y=used_cars_train_df.price,\n",
    "        cv=KFold(n=len(used_cars_train_df),\n",
    "                 n_folds=5,   # 5-fold cross validation\n",
    "                 shuffle=True),\n",
    "        scoring=mse_score).mean())"
   ]
  },
  {
   "cell_type": "markdown",
   "metadata": {},
   "source": [
    "And the Test-set OOS RMSE is:"
   ]
  },
  {
   "cell_type": "code",
   "execution_count": 38,
   "metadata": {
    "collapsed": false
   },
   "outputs": [
    {
     "data": {
      "text/plain": [
       "4092.6074245786417"
      ]
     },
     "execution_count": 38,
     "metadata": {},
     "output_type": "execute_result"
    }
   ],
   "source": [
    "boost_model.fit(\n",
    "    X=pandas.get_dummies(used_cars_train_df[predictor_names]),\n",
    "    y=used_cars_train_df.price)\n",
    "\n",
    "rmse(y_hat=boost_model.predict(pandas.get_dummies(used_cars_test_df[predictor_names])),\n",
    "     y=used_cars_test_df.price)"
   ]
  },
  {
   "cell_type": "markdown",
   "metadata": {},
   "source": [
    "Overall, this exercise shows the power of simple but extremely flexible trees-based methods such as Random Forest and Boosted Trees. When having many variables, all we have to do is to throw them into a trees ensemble!"
   ]
  }
 ],
 "metadata": {
  "kernelspec": {
   "display_name": "Python 2",
   "language": "python",
   "name": "python2"
  },
  "language_info": {
   "codemirror_mode": {
    "name": "ipython",
    "version": 2
   },
   "file_extension": ".py",
   "mimetype": "text/x-python",
   "name": "python",
   "nbconvert_exporter": "python",
   "pygments_lexer": "ipython2",
   "version": "2.7.12"
  }
 },
 "nbformat": 4,
 "nbformat_minor": 0
}
