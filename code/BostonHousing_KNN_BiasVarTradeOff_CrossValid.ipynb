{
 "cells": [
  {
   "cell_type": "markdown",
   "metadata": {},
   "source": [
    "# OVERVIEW\n",
    "\n",
    "This iPython Notebook uses the **_Boston Housing_** data set to illustrate the following:\n",
    "\n",
    "- The **$k$-Nearest Neighbors** (**KNN**) algorithm;\n",
    "- The **Bias-Variance Trade-Off**; and\n",
    "- The use of **Cross Validation** to estimate Out-of-Sample (OOS) prediction error and determine optimal hyper-parameters, in this case the number of nearest neighbors $k$. "
   ]
  },
  {
   "cell_type": "markdown",
   "metadata": {},
   "source": [
    "# _first, some boring logistics..._\n",
    "\n",
    "Let's first import some necessary Python packages and helper modules, and set the random number generator's seed:"
   ]
  },
  {
   "cell_type": "code",
   "execution_count": 1,
   "metadata": {
    "collapsed": false
   },
   "outputs": [
    {
     "name": "stderr",
     "output_type": "stream",
     "text": [
      "/home/mkolar/anaconda/lib/python2.7/site-packages/sklearn/cross_validation.py:44: DeprecationWarning: This module was deprecated in version 0.18 in favor of the model_selection module into which all the refactored classes and functions are moved. Also note that the interface of the new CV iterators are different from that of this module. This module will be removed in 0.20.\n",
      "  \"This module will be removed in 0.20.\", DeprecationWarning)\n"
     ]
    }
   ],
   "source": [
    "# enable In-Line MatPlotLib\n",
    "%matplotlib inline\n",
    "import matplotlib.pyplot as plt\n",
    "from numpy import log, nan, sqrt\n",
    "import os\n",
    "from pandas import DataFrame, melt, read_csv\n",
    "from random import seed\n",
    "from sklearn.cross_validation import cross_val_score, KFold\n",
    "from sklearn.neighbors import KNeighborsRegressor"
   ]
  },
  {
   "cell_type": "code",
   "execution_count": 2,
   "metadata": {
    "collapsed": false
   },
   "outputs": [],
   "source": [
    "# set CONSTANTS\n",
    "\n",
    "# data paths\n",
    "DATA_FILE_NAME = 'BostonHousing.csv'\n",
    "DATA_URL = 'https://raw.githubusercontent.com/ChicagoBoothML/DATA___BostonHousing/master/%s' % DATA_FILE_NAME\n",
    "\n",
    "# number of examples to show from a data set\n",
    "NB_EXAMPLES_TO_SHOW = 9\n",
    "\n",
    "# random seed\n",
    "RANDOM_SEED = 99"
   ]
  },
  {
   "cell_type": "code",
   "execution_count": 3,
   "metadata": {
    "collapsed": false
   },
   "outputs": [],
   "source": [
    "def rmse(y_hat, y):\n",
    "    return sqrt(mse(y_hat, y))\n",
    "\n",
    "def mse(y_hat, y):\n",
    "    return ((y_hat - y) ** 2).mean()\n",
    "\n",
    "\n",
    "seed(99)"
   ]
  },
  {
   "cell_type": "markdown",
   "metadata": {},
   "source": [
    "# Boston Housing data set\n",
    "\n",
    "Let's now import the Boston Housing data into a **`pandas`** data frame:"
   ]
  },
  {
   "cell_type": "code",
   "execution_count": 5,
   "metadata": {
    "collapsed": false
   },
   "outputs": [
    {
     "data": {
      "text/html": [
       "<div>\n",
       "<table border=\"1\" class=\"dataframe\">\n",
       "  <thead>\n",
       "    <tr style=\"text-align: right;\">\n",
       "      <th></th>\n",
       "      <th>crim</th>\n",
       "      <th>zn</th>\n",
       "      <th>indus</th>\n",
       "      <th>chas</th>\n",
       "      <th>nox</th>\n",
       "      <th>rm</th>\n",
       "      <th>age</th>\n",
       "      <th>dis</th>\n",
       "      <th>rad</th>\n",
       "      <th>tax</th>\n",
       "      <th>ptratio</th>\n",
       "      <th>black</th>\n",
       "      <th>lstat</th>\n",
       "      <th>medv</th>\n",
       "    </tr>\n",
       "  </thead>\n",
       "  <tbody>\n",
       "    <tr>\n",
       "      <th>161</th>\n",
       "      <td>1.46336</td>\n",
       "      <td>0.0</td>\n",
       "      <td>19.58</td>\n",
       "      <td>0</td>\n",
       "      <td>0.6050</td>\n",
       "      <td>7.489</td>\n",
       "      <td>90.8</td>\n",
       "      <td>1.9709</td>\n",
       "      <td>5</td>\n",
       "      <td>403</td>\n",
       "      <td>14.7</td>\n",
       "      <td>374.43</td>\n",
       "      <td>1.73</td>\n",
       "      <td>50.0</td>\n",
       "    </tr>\n",
       "    <tr>\n",
       "      <th>162</th>\n",
       "      <td>1.83377</td>\n",
       "      <td>0.0</td>\n",
       "      <td>19.58</td>\n",
       "      <td>1</td>\n",
       "      <td>0.6050</td>\n",
       "      <td>7.802</td>\n",
       "      <td>98.2</td>\n",
       "      <td>2.0407</td>\n",
       "      <td>5</td>\n",
       "      <td>403</td>\n",
       "      <td>14.7</td>\n",
       "      <td>389.61</td>\n",
       "      <td>1.92</td>\n",
       "      <td>50.0</td>\n",
       "    </tr>\n",
       "    <tr>\n",
       "      <th>40</th>\n",
       "      <td>0.03359</td>\n",
       "      <td>75.0</td>\n",
       "      <td>2.95</td>\n",
       "      <td>0</td>\n",
       "      <td>0.4280</td>\n",
       "      <td>7.024</td>\n",
       "      <td>15.8</td>\n",
       "      <td>5.4011</td>\n",
       "      <td>3</td>\n",
       "      <td>252</td>\n",
       "      <td>18.3</td>\n",
       "      <td>395.62</td>\n",
       "      <td>1.98</td>\n",
       "      <td>34.9</td>\n",
       "    </tr>\n",
       "    <tr>\n",
       "      <th>232</th>\n",
       "      <td>0.57529</td>\n",
       "      <td>0.0</td>\n",
       "      <td>6.20</td>\n",
       "      <td>0</td>\n",
       "      <td>0.5070</td>\n",
       "      <td>8.337</td>\n",
       "      <td>73.3</td>\n",
       "      <td>3.8384</td>\n",
       "      <td>8</td>\n",
       "      <td>307</td>\n",
       "      <td>17.4</td>\n",
       "      <td>385.91</td>\n",
       "      <td>2.47</td>\n",
       "      <td>41.7</td>\n",
       "    </tr>\n",
       "    <tr>\n",
       "      <th>192</th>\n",
       "      <td>0.08664</td>\n",
       "      <td>45.0</td>\n",
       "      <td>3.44</td>\n",
       "      <td>0</td>\n",
       "      <td>0.4370</td>\n",
       "      <td>7.178</td>\n",
       "      <td>26.3</td>\n",
       "      <td>6.4798</td>\n",
       "      <td>5</td>\n",
       "      <td>398</td>\n",
       "      <td>15.2</td>\n",
       "      <td>390.49</td>\n",
       "      <td>2.87</td>\n",
       "      <td>36.4</td>\n",
       "    </tr>\n",
       "    <tr>\n",
       "      <th>204</th>\n",
       "      <td>0.02009</td>\n",
       "      <td>95.0</td>\n",
       "      <td>2.68</td>\n",
       "      <td>0</td>\n",
       "      <td>0.4161</td>\n",
       "      <td>8.034</td>\n",
       "      <td>31.9</td>\n",
       "      <td>5.1180</td>\n",
       "      <td>4</td>\n",
       "      <td>224</td>\n",
       "      <td>14.7</td>\n",
       "      <td>390.55</td>\n",
       "      <td>2.88</td>\n",
       "      <td>50.0</td>\n",
       "    </tr>\n",
       "    <tr>\n",
       "      <th>3</th>\n",
       "      <td>0.03237</td>\n",
       "      <td>0.0</td>\n",
       "      <td>2.18</td>\n",
       "      <td>0</td>\n",
       "      <td>0.4580</td>\n",
       "      <td>6.998</td>\n",
       "      <td>45.8</td>\n",
       "      <td>6.0622</td>\n",
       "      <td>3</td>\n",
       "      <td>222</td>\n",
       "      <td>18.7</td>\n",
       "      <td>394.63</td>\n",
       "      <td>2.94</td>\n",
       "      <td>33.4</td>\n",
       "    </tr>\n",
       "    <tr>\n",
       "      <th>370</th>\n",
       "      <td>6.53876</td>\n",
       "      <td>0.0</td>\n",
       "      <td>18.10</td>\n",
       "      <td>1</td>\n",
       "      <td>0.6310</td>\n",
       "      <td>7.016</td>\n",
       "      <td>97.5</td>\n",
       "      <td>1.2024</td>\n",
       "      <td>24</td>\n",
       "      <td>666</td>\n",
       "      <td>20.2</td>\n",
       "      <td>392.05</td>\n",
       "      <td>2.96</td>\n",
       "      <td>50.0</td>\n",
       "    </tr>\n",
       "    <tr>\n",
       "      <th>195</th>\n",
       "      <td>0.01381</td>\n",
       "      <td>80.0</td>\n",
       "      <td>0.46</td>\n",
       "      <td>0</td>\n",
       "      <td>0.4220</td>\n",
       "      <td>7.875</td>\n",
       "      <td>32.0</td>\n",
       "      <td>5.6484</td>\n",
       "      <td>4</td>\n",
       "      <td>255</td>\n",
       "      <td>14.4</td>\n",
       "      <td>394.23</td>\n",
       "      <td>2.97</td>\n",
       "      <td>50.0</td>\n",
       "    </tr>\n",
       "  </tbody>\n",
       "</table>\n",
       "</div>"
      ],
      "text/plain": [
       "        crim    zn  indus  chas     nox     rm   age     dis  rad  tax  \\\n",
       "161  1.46336   0.0  19.58     0  0.6050  7.489  90.8  1.9709    5  403   \n",
       "162  1.83377   0.0  19.58     1  0.6050  7.802  98.2  2.0407    5  403   \n",
       "40   0.03359  75.0   2.95     0  0.4280  7.024  15.8  5.4011    3  252   \n",
       "232  0.57529   0.0   6.20     0  0.5070  8.337  73.3  3.8384    8  307   \n",
       "192  0.08664  45.0   3.44     0  0.4370  7.178  26.3  6.4798    5  398   \n",
       "204  0.02009  95.0   2.68     0  0.4161  8.034  31.9  5.1180    4  224   \n",
       "3    0.03237   0.0   2.18     0  0.4580  6.998  45.8  6.0622    3  222   \n",
       "370  6.53876   0.0  18.10     1  0.6310  7.016  97.5  1.2024   24  666   \n",
       "195  0.01381  80.0   0.46     0  0.4220  7.875  32.0  5.6484    4  255   \n",
       "\n",
       "     ptratio   black  lstat  medv  \n",
       "161     14.7  374.43   1.73  50.0  \n",
       "162     14.7  389.61   1.92  50.0  \n",
       "40      18.3  395.62   1.98  34.9  \n",
       "232     17.4  385.91   2.47  41.7  \n",
       "192     15.2  390.49   2.87  36.4  \n",
       "204     14.7  390.55   2.88  50.0  \n",
       "3       18.7  394.63   2.94  33.4  \n",
       "370     20.2  392.05   2.96  50.0  \n",
       "195     14.4  394.23   2.97  50.0  "
      ]
     },
     "execution_count": 5,
     "metadata": {},
     "output_type": "execute_result"
    }
   ],
   "source": [
    "# read Boston Housing data into data frame\n",
    "boston_housing = read_csv(\n",
    "    'https://raw.githubusercontent.com/ChicagoBoothML/DATA___BostonHousing/master/BostonHousing.csv')\n",
    "boston_housing.sort_values(by='lstat', inplace=True)\n",
    "nb_samples = len(boston_housing)\n",
    "boston_housing[:NB_EXAMPLES_TO_SHOW]"
   ]
  },
  {
   "cell_type": "markdown",
   "metadata": {},
   "source": [
    "Let us then focus on the two variables of interest: **`lstat`** (our predictor variable(s) $\\mathbf X$) and **`medv`** (our variable to predict $\\mathbf y$). Below is a plot of them against each other:"
   ]
  },
  {
   "cell_type": "code",
   "execution_count": 6,
   "metadata": {
    "collapsed": false
   },
   "outputs": [
    {
     "data": {
      "text/plain": [
       "<matplotlib.text.Text at 0x7fc7b5eab5d0>"
      ]
     },
     "execution_count": 6,
     "metadata": {},
     "output_type": "execute_result"
    },
    {
     "data": {
      "image/png": "[encoded data removed]",
      "text/plain": [
       "<matplotlib.figure.Figure at 0x7fc7b6c38a10>"
      ]
     },
     "metadata": {},
     "output_type": "display_data"
    }
   ],
   "source": [
    "lstat = boston_housing['lstat']\n",
    "medv = boston_housing['medv']\n",
    "plt.scatter(lstat, medv, s = 1, color = 'blue')\n",
    "plt.xlabel('lstat')\n",
    "plt.ylabel('medv')\n",
    "plt.title('Boston Housing : medv v.s. lstat')"
   ]
  },
  {
   "cell_type": "markdown",
   "metadata": {},
   "source": [
    "# $k$-Nearest Neighbors algorithm and Bias-Variance Trade-Off\n",
    "\n",
    "Let's now try fitting a KNN predictor, with $k = 5$, of _medv_ from _lstat_, using all samples:"
   ]
  },
  {
   "cell_type": "code",
   "execution_count": 7,
   "metadata": {
    "collapsed": false
   },
   "outputs": [
    {
     "data": {
      "text/plain": [
       "[<matplotlib.lines.Line2D at 0x7fc7b257ac90>]"
      ]
     },
     "execution_count": 7,
     "metadata": {},
     "output_type": "execute_result"
    },
    {
     "data": {
      "image/png": "[encoded data removed]",
      "text/plain": [
       "<matplotlib.figure.Figure at 0x7fc7b5f0c550>"
      ]
     },
     "metadata": {},
     "output_type": "display_data"
    }
   ],
   "source": [
    "# set K\n",
    "k = 5 \n",
    "\n",
    "# initialize a KNN regressor\n",
    "knn_model = KNeighborsRegressor(n_neighbors=k)\n",
    "\n",
    "# fit the model\n",
    "knn_model.fit(X=boston_housing[['lstat']], y=boston_housing.medv)\n",
    "\n",
    "# compute the fitted value\n",
    "predicted_medv = knn_model.predict(boston_housing[['lstat']])\n",
    "\n",
    "# plot\n",
    "plt.scatter(lstat, medv, s = 1, color = 'blue')\n",
    "plt.xlabel('lstat')\n",
    "plt.ylabel('medv')\n",
    "plt.title('Boston Housing : medv v.s. lstat and fitted value')\n",
    "plt.plot(lstat, predicted_medv, color = 'red')"
   ]
  },
  {
   "cell_type": "markdown",
   "metadata": {},
   "source": [
    "With $k = 5$ &ndash; a small number of nearest neighbors &ndash; we have a very \"squiggly\" predictor, which **fits the training data well** but is **over-sensitive to small changes** in the _lstat_ variable. We call this a **LOW-BIAS**, **HIGH-VARIANCE** predictor. We don't like it."
   ]
  },
  {
   "cell_type": "markdown",
   "metadata": {},
   "source": [
    "Now, with, say, $k = 200$, we have the following:"
   ]
  },
  {
   "cell_type": "code",
   "execution_count": 8,
   "metadata": {
    "collapsed": false
   },
   "outputs": [
    {
     "data": {
      "text/plain": [
       "[<matplotlib.lines.Line2D at 0x7fc7b244b650>]"
      ]
     },
     "execution_count": 8,
     "metadata": {},
     "output_type": "execute_result"
    },
    {
     "data": {
      "image/png": "[encoded data removed]",
      "text/plain": [
       "<matplotlib.figure.Figure at 0x7fc7b251cfd0>"
      ]
     },
     "metadata": {},
     "output_type": "display_data"
    }
   ],
   "source": [
    "# set K\n",
    "k = 200\n",
    "\n",
    "# initialize a KNN regressor\n",
    "knn_model = KNeighborsRegressor(n_neighbors=k)\n",
    "\n",
    "# fit the model\n",
    "knn_model.fit(X=boston_housing[['lstat']], y=boston_housing.medv)\n",
    "\n",
    "# compute the fitted value\n",
    "predicted_medv = knn_model.predict(boston_housing[['lstat']])\n",
    "\n",
    "# plot\n",
    "plt.scatter(lstat, medv, s = 1, color = 'blue')\n",
    "plt.xlabel('lstat')\n",
    "plt.ylabel('medv')\n",
    "plt.title('Boston Housing : medv v.s. lstat and fitted value')\n",
    "plt.plot(lstat, predicted_medv, color = 'red')"
   ]
  },
  {
   "cell_type": "markdown",
   "metadata": {},
   "source": [
    "_Meh..._, we're not exactly jumping around with joy with this one, either. The predictor line is **not over-sensitive**, but **too \"smooth\" and too simple**, **not responding sufficiently to significant changes** in _lstat_. We call this a **HIGH-BIAS, LOW-VARIANCE** predictor."
   ]
  },
  {
   "cell_type": "markdown",
   "metadata": {},
   "source": [
    "Let's try something in between, say, $k = 50$, to see if we have any better luck:"
   ]
  },
  {
   "cell_type": "code",
   "execution_count": 9,
   "metadata": {
    "collapsed": false
   },
   "outputs": [
    {
     "data": {
      "text/plain": [
       "[<matplotlib.lines.Line2D at 0x7fc7b2392550>]"
      ]
     },
     "execution_count": 9,
     "metadata": {},
     "output_type": "execute_result"
    },
    {
     "data": {
      "image/png": "[encoded data removed]",
      "text/plain": [
       "<matplotlib.figure.Figure at 0x7fc7b2502050>"
      ]
     },
     "metadata": {},
     "output_type": "display_data"
    }
   ],
   "source": [
    "# set K\n",
    "k = 50\n",
    "\n",
    "# initialize a KNN regressor\n",
    "knn_model = KNeighborsRegressor(n_neighbors=k)\n",
    "\n",
    "# fit the model\n",
    "knn_model.fit(X=boston_housing[['lstat']], y=boston_housing.medv)\n",
    "\n",
    "# compute the fitted value\n",
    "predicted_medv = knn_model.predict(boston_housing[['lstat']])\n",
    "\n",
    "# plot\n",
    "plt.scatter(lstat, medv, s = 1, color = 'blue')\n",
    "plt.xlabel('lstat')\n",
    "plt.ylabel('medv')\n",
    "plt.title('Boston Housing : medv v.s. lstat and fitted value')\n",
    "plt.plot(lstat, predicted_medv, color = 'red')"
   ]
  },
  {
   "cell_type": "markdown",
   "metadata": {},
   "source": [
    "Now, this looks pretty reasonable, and we'd think this predictor would **generalize well** when facing new, not yet seen, data. This is a **low-bias**, **low-variance** predictor. We love ones like this.\n",
    "\n",
    "Hence, the key take-away is that, throughout a range of **hyper-parameter** $k$ from small to large, we have seen a spectrum of corresponding predictors from \"low-bias high-variance\" to \"high-bias low-variance\". This phenomenon is called the **BIAS-VARIANCE TRADE OFF**, a fundamental concept in Machine Learning that is applicable to not only KNN alone but to all modeling methods.\n",
    "\n",
    "The bias-variance trade-off concerns the **generalizability of a trained predictor** in light of new data it's not seen before. If a predictor has high bias and/or high variance, it will not do well in new cases. **Good, generalizable predictors** need to have **both low bias and low variance**."
   ]
  },
  {
   "cell_type": "markdown",
   "metadata": {},
   "source": [
    "# Out-of-Sample Error and Cross-Validation\n",
    "\n",
    "To **quantify the generalizability of a predictor**, we need to estimate its **out-of-sample (OOS) error**, i.e. a certain measure of **how well the predictor performs on data not used in its training process**.\n",
    "\n",
    "A popular way to produce such OOS error estimates is to perform **cross validation**. Refer to lecture slides or <a href=\"http://en.wikipedia.org/wiki/Cross-validation_(statistics)\">here</a> for discussions on cross validation.\n",
    "\n",
    "Now, let's consider [**Root Mean Square Error** (**RMSE**)](http://en.wikipedia.org/wiki/Root-mean-square_deviation) as our predictor-goodness evaluation criterion and use **5-fold** cross validation **6 times** to pick a KNN predictor that has satisfactory RMSE."
   ]
  },
  {
   "cell_type": "code",
   "execution_count": 10,
   "metadata": {
    "collapsed": true
   },
   "outputs": [],
   "source": [
    "# define Root-Mean-Square-Error scoring/evaluation function\n",
    "# compliant with what SciKit Learn expects in this guide:\n",
    "# http://scikit-learn.org/stable/modules/generated/sklearn.cross_validation.cross_val_score.html#sklearn.cross_validation.cross_val_score\n",
    "def rmse_score(estimator, X, y):\n",
    "    y_hat = estimator.predict(X)\n",
    "    return rmse(y_hat, y)\n",
    "\n",
    "NB_CROSS_VALIDATION_FOLDS = 5\n",
    "NB_CROSS_VALIDATIONS = 6"
   ]
  },
  {
   "cell_type": "code",
   "execution_count": 11,
   "metadata": {
    "collapsed": false
   },
   "outputs": [],
   "source": [
    "k_range = range(2, 201)\n",
    "cross_validations_avg_rmse_dataframe = DataFrame(dict(k=k_range, model_complexity=-log(k_range)))\n",
    "cross_validations_avg_rmse_dataframe['cv_avg_rmse'] = 0.\n",
    "cv_column_names = []\n",
    "for v in range(NB_CROSS_VALIDATIONS):\n",
    "    cv_column_name = 'cv_%i_rmse' % v\n",
    "    cv_column_names.append(cv_column_name)\n",
    "    cross_validations_avg_rmse_dataframe[cv_column_name] = nan\n",
    "    for k in k_range:\n",
    "        knn_model = KNeighborsRegressor(n_neighbors=k)\n",
    "        avg_rmse_score = cross_val_score(\n",
    "            knn_model,\n",
    "            X=boston_housing[['lstat']],\n",
    "            y=boston_housing.medv,\n",
    "            cv=KFold(n=nb_samples,\n",
    "                     n_folds=NB_CROSS_VALIDATION_FOLDS,\n",
    "                     shuffle=True),\n",
    "            scoring=rmse_score).mean()\n",
    "        cross_validations_avg_rmse_dataframe.ix[\n",
    "            cross_validations_avg_rmse_dataframe.k==k, cv_column_name] = avg_rmse_score\n",
    "        \n",
    "    cross_validations_avg_rmse_dataframe.cv_avg_rmse +=\\\n",
    "        (cross_validations_avg_rmse_dataframe[cv_column_name] -\n",
    "         cross_validations_avg_rmse_dataframe.cv_avg_rmse) / (v + 1)\n",
    "        \n",
    "cross_validations_avg_rmse_longdataframe = melt(\n",
    "    cross_validations_avg_rmse_dataframe,\n",
    "    id_vars=['model_complexity', 'cv_avg_rmse'], value_vars=cv_column_names)\n"
   ]
  },
  {
   "cell_type": "code",
   "execution_count": 12,
   "metadata": {
    "collapsed": false
   },
   "outputs": [
    {
     "data": {
      "text/plain": [
       "<matplotlib.text.Text at 0x7fc7b21e01d0>"
      ]
     },
     "execution_count": 12,
     "metadata": {},
     "output_type": "execute_result"
    },
    {
     "data": {
      "image/png": "[encoded data removed]",
      "text/plain": [
       "<matplotlib.figure.Figure at 0x7fc7b2464490>"
      ]
     },
     "metadata": {},
     "output_type": "display_data"
    }
   ],
   "source": [
    "plt.scatter(cross_validations_avg_rmse_longdataframe['model_complexity'], cross_validations_avg_rmse_longdataframe['cv_avg_rmse'], s= 1)\n",
    "plt.xlabel('Model Complexity (-log K)')\n",
    "plt.ylabel('Average RMSE')\n",
    "plt.title('Cross Validation')"
   ]
  },
  {
   "cell_type": "markdown",
   "metadata": {},
   "source": [
    "Best $k$ that minimizes average cross-validation RMSE:"
   ]
  },
  {
   "cell_type": "code",
   "execution_count": 13,
   "metadata": {
    "collapsed": false
   },
   "outputs": [
    {
     "data": {
      "text/plain": [
       "31"
      ]
     },
     "execution_count": 13,
     "metadata": {},
     "output_type": "execute_result"
    }
   ],
   "source": [
    "best_k_index = cross_validations_avg_rmse_dataframe.cv_avg_rmse.argmin()\n",
    "best_k = k_range[best_k_index]\n",
    "best_k"
   ]
  },
  {
   "cell_type": "code",
   "execution_count": 14,
   "metadata": {
    "collapsed": false
   },
   "outputs": [
    {
     "data": {
      "text/plain": [
       "[<matplotlib.lines.Line2D at 0x7fc7b21564d0>]"
      ]
     },
     "execution_count": 14,
     "metadata": {},
     "output_type": "execute_result"
    },
    {
     "data": {
      "image/png": "[encoded data removed]",
      "text/plain": [
       "<matplotlib.figure.Figure at 0x7fc7b2349ed0>"
      ]
     },
     "metadata": {},
     "output_type": "display_data"
    }
   ],
   "source": [
    "# redo KNN again, with the best K value returned by cross validation\n",
    "k = best_k\n",
    "\n",
    "# initialize a KNN regressor\n",
    "knn_model = KNeighborsRegressor(n_neighbors=k)\n",
    "\n",
    "# fit the model\n",
    "knn_model.fit(X=boston_housing[['lstat']], y=boston_housing.medv)\n",
    "\n",
    "# compute the fitted value\n",
    "predicted_medv = knn_model.predict(boston_housing[['lstat']])\n",
    "\n",
    "# plot\n",
    "plt.scatter(lstat, medv, s = 1, color = 'blue')\n",
    "plt.xlabel('lstat')\n",
    "plt.ylabel('medv')\n",
    "plt.title('Boston Housing : medv v.s. lstat and fitted value')\n",
    "plt.plot(lstat, predicted_medv, color = 'red')"
   ]
  }
 ],
 "metadata": {
  "anaconda-cloud": {},
  "kernelspec": {
   "display_name": "Python 2",
   "language": "python",
   "name": "python2"
  },
  "language_info": {
   "codemirror_mode": {
    "name": "ipython",
    "version": 2
   },
   "file_extension": ".py",
   "mimetype": "text/x-python",
   "name": "python",
   "nbconvert_exporter": "python",
   "pygments_lexer": "ipython2",
   "version": "2.7.11"
  }
 },
 "nbformat": 4,
 "nbformat_minor": 0
}
